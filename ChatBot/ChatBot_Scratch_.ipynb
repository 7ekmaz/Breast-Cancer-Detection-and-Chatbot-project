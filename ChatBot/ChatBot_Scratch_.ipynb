{
  "cells": [
    {
      "cell_type": "markdown",
      "metadata": {
        "id": "B-UO2pcxxmDS"
      },
      "source": [
        " # **ChatBot From Scratch**"
      ]
    },
    {
      "cell_type": "markdown",
      "metadata": {
        "id": "124HANu54Dul"
      },
      "source": [
        "## Import necessary libraries"
      ]
    },
    {
      "cell_type": "code",
      "execution_count": 1,
      "metadata": {
        "id": "ZoaAxpSoxPyc"
      },
      "outputs": [],
      "source": [
        "import io\n",
        "import random\n",
        "import string\n",
        "import warnings\n",
        "warnings.filterwarnings(\"ignore\")\n",
        "import numpy as np\n",
        "from sklearn.feature_extraction.text import TfidfVectorizer\n",
        "from sklearn.metrics.pairwise import cosine_similarity\n"
      ]
    },
    {
      "cell_type": "markdown",
      "metadata": {
        "id": "aAQUbN157ovz"
      },
      "source": [
        "## Our workflow\n",
        "\n",
        "*   Read Chatbot corpus (Wikipedia About Breast Cancer ) + Lowering\n",
        "*   Tokenization\n",
        "*   Remove Stop words\n",
        "*   Preprocessing (Lemmatization)\n",
        "    * Lemmatization\n",
        "    \n",
        "\n"
      ]
    },
    {
      "cell_type": "markdown",
      "metadata": {
        "id": "Zm3NnV0b8yyU"
      },
      "source": [
        "## **Read Corpus**"
      ]
    },
    {
      "cell_type": "markdown",
      "metadata": {
        "id": "k9dYRPnT9CxO"
      },
      "source": [
        "We will use a corpus from Wikipedia page about Breast Cancer"
      ]
    },
    {
      "cell_type": "code",
      "execution_count": 2,
      "metadata": {
        "id": "mEsN4IXm84YE"
      },
      "outputs": [],
      "source": [
        "f = open('/content/Breast_cancer_2nd_corpus.txt', 'r', errors = 'ignore')\n",
        "raw = f.read()\n",
        "raw = raw.lower()"
      ]
    },
    {
      "cell_type": "code",
      "execution_count": 3,
      "metadata": {
        "colab": {
          "base_uri": "https://localhost:8080/"
        },
        "id": "vaYCAKxbFHbY",
        "outputId": "9b7b3f48-9101-444b-c1ac-4e4f8f75f6c9"
      },
      "outputs": [
        {
          "output_type": "stream",
          "name": "stdout",
          "text": [
            "breast cancer is a cancer that develops from breast tissue. signs of breast cancer may include a lump in the breast, a change in breast shape, dimpling of the skin, milk rejection, fluid coming from the nipple, a newly inverted nipple, or a red or scaly patch of skin. in those with distant spread of the disease, there may be bone pain, swollen lymph nodes, shortness of breath, or yellow skin.\n",
            "\n",
            "risk factors for developing breast cancer include obesity, a lack of physical exercise, alcohol consump\n"
          ]
        }
      ],
      "source": [
        "import re\n",
        "\n",
        "raw = re.sub(r'\\[\\d+\\]', '', raw)\n",
        "\n",
        "\n",
        "# Print the cleaned corpus\n",
        "print(raw[:500])"
      ]
    },
    {
      "cell_type": "code",
      "execution_count": 4,
      "metadata": {
        "id": "2yQw8Lwm4I9B"
      },
      "outputs": [],
      "source": [
        "def save_text_to_file(text, filename=\"output.txt\"):\n",
        "    with open(filename, \"w\") as file:\n",
        "        file.write(text)\n",
        "\n",
        "save_text_to_file(raw, filename=\"output.txt\")"
      ]
    },
    {
      "cell_type": "code",
      "execution_count": 5,
      "metadata": {
        "colab": {
          "base_uri": "https://localhost:8080/"
        },
        "collapsed": true,
        "id": "c7-tOxJpFQYq",
        "outputId": "10ebc264-89ac-4bf4-c65b-ca82fc5ce7ab"
      },
      "outputs": [
        {
          "output_type": "stream",
          "name": "stdout",
          "text": [
            "Requirement already satisfied: nltk in /usr/local/lib/python3.11/dist-packages (3.9.1)\n",
            "Requirement already satisfied: click in /usr/local/lib/python3.11/dist-packages (from nltk) (8.1.8)\n",
            "Requirement already satisfied: joblib in /usr/local/lib/python3.11/dist-packages (from nltk) (1.4.2)\n",
            "Requirement already satisfied: regex>=2021.8.3 in /usr/local/lib/python3.11/dist-packages (from nltk) (2024.11.6)\n",
            "Requirement already satisfied: tqdm in /usr/local/lib/python3.11/dist-packages (from nltk) (4.67.1)\n"
          ]
        }
      ],
      "source": [
        "!pip install nltk"
      ]
    },
    {
      "cell_type": "code",
      "execution_count": 6,
      "metadata": {
        "colab": {
          "base_uri": "https://localhost:8080/"
        },
        "id": "4lar8XfuDf77",
        "outputId": "3500792f-2b8c-4675-80ff-aae975259b56"
      },
      "outputs": [
        {
          "output_type": "execute_result",
          "data": {
            "text/plain": [
              "True"
            ]
          },
          "metadata": {},
          "execution_count": 6
        }
      ],
      "source": [
        "import nltk\n",
        "from nltk.corpus import stopwords\n",
        "from nltk.tokenize import word_tokenize, sent_tokenize\n",
        "from nltk.stem import WordNetLemmatizer\n",
        "from gensim.models import Word2Vec\n",
        "from sklearn.metrics.pairwise import cosine_similarity\n",
        "\n",
        "#-----------------------------\n",
        "\n",
        "nltk.download('popular', quiet=True) # for downloading packages\n",
        "nltk.download('punkt_tab', quiet=True) # first-time use only\n",
        "nltk.download('wordnet', quiet=True) # first-time use only\n",
        "nltk.download('stopwords', quiet=True)\n",
        "\n"
      ]
    },
    {
      "cell_type": "markdown",
      "metadata": {
        "id": "ETOP54gGDMlh"
      },
      "source": [
        "## **Tokenization**"
      ]
    },
    {
      "cell_type": "code",
      "execution_count": 7,
      "metadata": {
        "id": "HIJCZlzq7m8i"
      },
      "outputs": [],
      "source": [
        "sent_tokens = nltk.sent_tokenize(raw)# converts to list of sentences\n",
        "word_tokens = nltk.word_tokenize(raw)# converts to list of words"
      ]
    },
    {
      "cell_type": "code",
      "execution_count": 8,
      "metadata": {
        "colab": {
          "base_uri": "https://localhost:8080/"
        },
        "id": "gqDdpRvA4Lc0",
        "outputId": "017e4252-4c03-4dc2-f7b7-1311923a5c7d"
      },
      "outputs": [
        {
          "output_type": "execute_result",
          "data": {
            "text/plain": [
              "['breast cancer is a cancer that develops from breast tissue.',\n",
              " 'signs of breast cancer may include a lump in the breast, a change in breast shape, dimpling of the skin, milk rejection, fluid coming from the nipple, a newly inverted nipple, or a red or scaly patch of skin.']"
            ]
          },
          "metadata": {},
          "execution_count": 8
        }
      ],
      "source": [
        "sent_tokens[:2]"
      ]
    },
    {
      "cell_type": "code",
      "execution_count": 9,
      "metadata": {
        "colab": {
          "base_uri": "https://localhost:8080/"
        },
        "id": "rzkyJQG24T_t",
        "outputId": "5b4bc51a-e6cc-4339-92df-b1b4c4f7775e"
      },
      "outputs": [
        {
          "output_type": "execute_result",
          "data": {
            "text/plain": [
              "['breast', 'cancer']"
            ]
          },
          "metadata": {},
          "execution_count": 9
        }
      ],
      "source": [
        "word_tokens[:2]\n"
      ]
    },
    {
      "cell_type": "markdown",
      "metadata": {
        "id": "0N2RQZI_F6nA"
      },
      "source": [
        "## **Preprocessing**"
      ]
    },
    {
      "cell_type": "code",
      "execution_count": 10,
      "metadata": {
        "id": "PCNdXXy27hi7"
      },
      "outputs": [],
      "source": [
        "lemmer = WordNetLemmatizer()\n",
        "stop_words = set(stopwords.words('english'))\n",
        "\n",
        "def LemTokens(tokens):\n",
        "    return [lemmer.lemmatize(token) for token in tokens if token not in stop_words]\n",
        "\n",
        "remove_punct_dict = dict((ord(punct), None) for punct in string.punctuation)\n",
        "\n",
        "def LemNormalize(text):\n",
        "    return LemTokens(word_tokenize(text.lower().translate(remove_punct_dict)))\n"
      ]
    },
    {
      "cell_type": "markdown",
      "metadata": {
        "id": "11rnajanslMI"
      },
      "source": [
        "## **Keyword Matching**"
      ]
    },
    {
      "cell_type": "code",
      "execution_count": 11,
      "metadata": {
        "id": "WozkiCVsskz-"
      },
      "outputs": [],
      "source": [
        "GREETING_INPUTS = (\"hello\", \"hi\", \"greetings\", \"sup\", \"what's up\",\"hey\",)\n",
        "GREETING_RESPONSES = [\"hi\", \"hey\", \"hi there\", \"hello\", \"I am glad! You are talking to me\"]\n",
        "def greeting(sentence):\n",
        "\n",
        "    for word in sentence.split():\n",
        "        if word.lower() in GREETING_INPUTS:\n",
        "            return random.choice(GREETING_RESPONSES)"
      ]
    },
    {
      "cell_type": "markdown",
      "metadata": {
        "id": "EzfdO84hKVQz"
      },
      "source": [
        "## **Word2Vec Model Training**"
      ]
    },
    {
      "cell_type": "code",
      "execution_count": 12,
      "metadata": {
        "id": "uksyDWS5Kr3W"
      },
      "outputs": [],
      "source": [
        "# Step 1: Train Word2Vec\n",
        "processed_corpus = [LemNormalize(sent) for sent in sent_tokens]  # Preprocess each sentence\n",
        "word2vec_model = Word2Vec(sentences=processed_corpus, vector_size=200, window=25 , min_count=1, workers=4)"
      ]
    },
    {
      "cell_type": "code",
      "source": [
        "print(processed_corpus)"
      ],
      "metadata": {
        "colab": {
          "base_uri": "https://localhost:8080/"
        },
        "id": "ptSj8CXnXsMg",
        "outputId": "ebaab53a-781f-46b4-beed-6105aeaaa433"
      },
      "execution_count": 13,
      "outputs": [
        {
          "output_type": "stream",
          "name": "stdout",
          "text": [
            "[['breast', 'cancer', 'cancer', 'develops', 'breast', 'tissue'], ['sign', 'breast', 'cancer', 'may', 'include', 'lump', 'breast', 'change', 'breast', 'shape', 'dimpling', 'skin', 'milk', 'rejection', 'fluid', 'coming', 'nipple', 'newly', 'inverted', 'nipple', 'red', 'scaly', 'patch', 'skin'], ['distant', 'spread', 'disease', 'may', 'bone', 'pain', 'swollen', 'lymph', 'node', 'shortness', 'breath', 'yellow', 'skin'], ['risk', 'factor', 'developing', 'breast', 'cancer', 'include', 'obesity', 'lack', 'physical', 'exercise', 'alcohol', 'consumption', 'hormone', 'replacement', 'therapy', 'menopause', 'ionizing', 'radiation', 'early', 'age', 'first', 'menstruation', 'child', 'late', 'life', 'older', 'age', 'prior', 'history', 'breast', 'cancer', 'family', 'history', 'breast', 'cancer'], ['five', 'ten', 'percent', 'case', 'result', 'inherited', 'genetic', 'predisposition', 'including', 'brca', 'mutation', 'among', 'others'], ['breast', 'cancer', 'commonly', 'develops', 'cell', 'lining', 'milk', 'duct', 'lobule', 'supply', 'duct', 'milk'], ['cancer', 'developing', 'duct', 'known', 'ductal', 'carcinoma', 'developing', 'lobule', 'known', 'lobular', 'carcinoma'], ['18', 'subtypes', 'breast', 'cancer'], ['ductal', 'carcinoma', 'situ', 'develop', 'preinvasive', 'lesion'], ['diagnosis', 'breast', 'cancer', 'confirmed', 'taking', 'biopsy', 'concerning', 'tissue'], ['diagnosis', 'made', 'test', 'carried', 'determine', 'cancer', 'spread', 'beyond', 'breast', 'treatment', 'likely', 'effective'], ['breast', 'cancer', 'screening', 'instrumental', 'given', 'size', 'breast', 'cancer', 'spread', 'among', 'critical', 'factor', 'predicting', 'prognosis', 'disease'], ['breast', 'cancer', 'found', 'screening', 'typically', 'smaller', 'less', 'likely', 'spread', 'outside', 'breast'], ['2013', 'cochrane', 'review', 'found', 'unclear', 'whether', 'mammographic', 'screening', 'harm', 'good', 'large', 'proportion', 'woman', 'test', 'positive', 'turn', 'disease'], ['2009', 'review', 'u', 'preventive', 'service', 'task', 'force', 'found', 'evidence', 'benefit', '40', '70', 'year', 'age', 'organization', 'recommends', 'screening', 'every', 'two', 'year', 'woman', '50', '74', 'year', 'age'], ['medication', 'tamoxifen', 'raloxifene', 'may', 'used', 'effort', 'prevent', 'breast', 'cancer', 'high', 'risk', 'developing'], ['surgical', 'removal', 'breast', 'another', 'preventive', 'measure', 'high', 'risk', 'woman'], ['diagnosed', 'cancer', 'number', 'treatment', 'may', 'used', 'including', 'surgery', 'radiation', 'therapy', 'chemotherapy', 'hormonal', 'therapy', 'targeted', 'therapy'], ['type', 'surgery', 'vary', 'breastconserving', 'surgery', 'mastectomy'], ['breast', 'reconstruction', 'may', 'take', 'place', 'time', 'surgery', 'later', 'date'], ['cancer', 'spread', 'part', 'body', 'treatment', 'mostly', 'aimed', 'improving', 'quality', 'life', 'comfort'], ['outcome', 'breast', 'cancer', 'vary', 'depending', 'cancer', 'type', 'extent', 'disease', 'person', 'age'], ['fiveyear', 'survival', 'rate', 'england', 'united', 'state', '80', '90'], ['developing', 'country', 'fiveyear', 'survival', 'rate', 'lower'], ['worldwide', 'breast', 'cancer', 'leading', 'type', 'cancer', 'woman', 'accounting', '25', 'case'], ['2018', 'resulted', 'two', 'million', 'new', 'case', '627000', 'death'], ['common', 'developed', 'country', '100', 'time', 'common', 'woman', 'men'], ['transgender', 'individual', 'genderaffirming', 'hormone', 'therapy', 'breast', 'cancer', '5', 'time', 'common', 'cisgender', 'woman', 'transgender', 'men', '46', 'time', 'common', 'transgender', 'woman', 'cisgender', 'men'], ['people', 'breast', 'cancer', 'symptom', 'time', 'diagnosis', 'tumor', 'detected', 'breast', 'cancer', 'screening', 'test'], ['symptom', 'new', 'lump', 'breast', 'common'], ['breast', 'lump', 'cancer', 'though', 'lump', 'painless', 'hard', 'irregular', 'edge', 'likely', 'cancerous'], ['symptom', 'include', 'swelling', 'pain', 'breast', 'dimpling', 'thickening', 'redness', 'dryness', 'breast', 'skin', 'pain', 'inversion', 'nipple'], ['may', 'experience', 'unusual', 'discharge', 'breast', 'swelling', 'lymph', 'node', 'arm', 'along', 'collar', 'bone'], ['less', 'common', 'form', 'breast', 'cancer', 'cause', 'distinctive', 'symptom'], ['5', 'people', 'breast', 'cancer', 'inflammatory', 'breast', 'cancer', 'cancer', 'cell', 'block', 'lymph', 'vessel', 'one', 'breast', 'causing', 'breast', 'substantially', 'swell', 'redden', 'three', 'six', 'month'], ['3', 'people', 'breast', 'cancer', 'paget', 'disease', 'breast', 'eczemalike', 'red', 'scaly', 'irritation', 'nipple', 'areola'], ['advanced', 'tumor', 'spread', 'metastasize', 'beyond', 'breast', 'commonly', 'bone', 'liver', 'lung', 'brain'], ['bone', 'metastasis', 'cause', 'swelling', 'progressive', 'bone', 'pain', 'weakening', 'bone', 'lead', 'fracture'], ['liver', 'metastasis', 'cause', 'abdominal', 'pain', 'nausea', 'vomiting', 'skin', 'problem', '–', 'rash', 'itchy', 'skin', 'yellowing', 'skin', 'jaundice'], ['lung', 'metastasis', 'experience', 'chest', 'pain', 'shortness', 'breath', 'regular', 'coughing'], ['metastasis', 'brain', 'cause', 'persistent', 'headache', 'seizure', 'nausea', 'vomiting', 'disruption', 'affected', 'person', 'speech', 'vision', 'memory', 'regular', 'behavior'], ['breast', 'cancer', 'screening', 'refers', 'testing', 'otherwisehealthy', 'woman', 'breast', 'cancer', 'attempt', 'diagnose', 'breast', 'tumor', 'early', 'treatment', 'successful'], ['common', 'screening', 'test', 'breast', 'cancer', 'lowdose', 'xray', 'imaging', 'breast', 'called', 'mammography'], ['breast', 'pressed', 'two', 'plate', 'imaged'], ['tumor', 'appear', 'unusually', 'dense', 'within', 'breast', 'distort', 'shape', 'surrounding', 'tissue', 'cause', 'small', 'dense', 'fleck', 'called', 'microcalcifications'], ['radiologist', 'generally', 'report', 'mammogram', 'result', 'standardized', 'scale', '–', 'sixpoint', 'breast', 'imagingreporting', 'data', 'system', 'birads', 'common', 'globally', '–', 'higher', 'number', 'corresponds', 'greater', 'risk', 'cancerous', 'tumor'], ['mammogram', 'also', 'reveals', 'breast', 'density', 'dense', 'breast', 'tissue', 'appears', 'opaque', 'mammogram', 'obscure', 'tumor'], ['birads', 'categorizes', 'breast', 'density', 'four', 'category'], ['mammography', 'detect', 'around', '90', 'breast', 'tumor', 'least', 'dense', 'breast', 'called', 'fatty', 'breast', '60', 'dense', 'breast', 'called', 'extremely', 'dense'], ['woman', 'particularly', 'dense', 'breast', 'instead', 'screened', 'ultrasound', 'magnetic', 'resonance', 'imaging', 'mri', 'tomosynthesis', 'sensitively', 'detect', 'breast', 'tumor'], ['regular', 'screening', 'mammography', 'reduces', 'breast', 'cancer', 'death', 'least', '20'], ['medical', 'guideline', 'recommend', 'annual', 'screening', 'mammogram', 'woman', 'aged', '50–70'], ['screening', 'also', 'reduces', 'breast', 'cancer', 'mortality', 'woman', 'aged', '40–49', 'guideline', 'recommend', 'annual', 'screening', 'age', 'group', 'well'], ['woman', 'high', 'risk', 'developing', 'breast', 'cancer', 'guideline', 'recommend', 'adding', 'mri', 'screening', 'mammography', 'increase', 'chance', 'detecting', 'potentially', 'dangerous', 'tumor'], ['regularly', 'feeling', 'one', 'breast', 'lump', 'abnormality', 'called', 'breast', 'selfexamination', 'reduce', 'person', 'chance', 'dying', 'breast', 'cancer'], ['clinical', 'breast', 'exam', 'health', 'professional', 'feel', 'breast', 'abnormality', 'common', 'whether', 'reduce', 'risk', 'dying', 'breast', 'cancer', 'known'], ['regular', 'breast', 'cancer', 'screening', 'commonplace', 'wealthy', 'nation', 'remains', 'uncommon', 'world', 'poorer', 'country'], ['still', 'mammography', 'disadvantage'], ['overall', 'screening', 'mammogram', 'miss', '1', '8', 'breast', 'cancer', 'also', 'give', 'falsepositive', 'result', 'causing', 'extra', 'anxiety', 'making', 'patient', 'overgo', 'unnecessary', 'additional', 'exam', 'bioposies'], ['suspected', 'tumor', 'mammogram', 'physical', 'exam', 'first', 'undergo', 'additional', 'imaging', '–', 'typically', 'second', 'diagnostic', 'mammogram', 'ultrasound', '–', 'confirm', 'presence', 'location'], ['biopsy', 'taken', 'suspected', 'tumor'], ['breast', 'biopsy', 'typically', 'done', 'core', 'needle', 'biopsy', 'hollow', 'needle', 'used', 'collect', 'tissue', 'area', 'interest'], ['suspected', 'tumor', 'appear', 'filled', 'fluid', 'often', 'instead', 'sampled', 'fineneedle', 'aspiration'], ['around', '10–20', 'breast', 'biopsy', 'positive', 'cancer'], ['biopsied', 'breast', 'mass', 'instead', 'caused', 'fibrocystic', 'breast', 'change', 'term', 'encompasses', 'benign', 'pocket', 'fluid', 'cell', 'growth', 'fibrous', 'tissue'], ['breast', 'cancer', 'classified', 'several', 'grading', 'system', 'assesses', 'tumor', 'characteristic', 'impact', 'person', 'prognosis'], ['first', 'tumor', 'classified', 'tissue', 'arises', 'appearance', 'tumor', 'tissue', 'microscope'], ['breast', 'cancer', '85', 'ductal', 'carcinoma', '–', 'derived', 'lining', 'mammary', 'duct'], ['10', 'lobular', 'carcinoma', '–', 'derived', 'mammary', 'lobe', '–', 'mixed', 'ductallobular', 'carcinoma'], ['rarer', 'type', 'include', 'mucinous', 'carcinoma', 'around', '25', 'case', 'surrounded', 'mucin', 'tubular', 'carcinoma', '15', 'full', 'small', 'tube', 'epithelial', 'cell', 'medullary', 'carcinoma', '1', 'resembling', 'medullary', 'middlelayer', 'tissue', 'papillary', 'carcinoma', '1', 'covered', 'fingerlike', 'growth'], ['oftentimes', 'biopsy', 'reveals', 'cell', 'cancerous', 'yet', 'spread', 'beyond', 'original', 'location'], ['condition', 'called', 'carcinoma', 'situ', 'often', 'considered', 'precancerous', 'rather', 'dangerous', 'cancer'], ['ductal', 'carcinoma', 'situ', 'mammary', 'duct', 'increased', 'risk', 'developing', 'true', 'invasive', 'breast', 'cancer', '–', 'around', 'third', 'develop', 'breast', 'cancer', 'within', 'five', 'year'], ['lobular', 'carcinoma', 'situ', 'mammary', 'lobe', 'rarely', 'cause', 'noticeable', 'lump', 'often', 'found', 'incidentally', 'biopsy', 'another', 'reason'], ['commonly', 'spread', 'throughout', 'breast'], ['lobular', 'carcinoma', 'situ', 'also', 'increased', 'risk', 'developing', 'breast', 'cancer', '–', 'around', '1', 'develop', 'breast', 'cancer', 'year'], ['however', 'risk', 'dying', 'breast', 'cancer', 'higher', 'rest', 'population'], ['invasive', 'tumor', 'tissue', 'assigned', 'grade', 'based', 'distinct', 'appears', 'healthy', 'breast'], ['breast', 'tumor', 'graded', 'three', 'feature', 'proportion', 'cancer', 'cell', 'form', 'tubule', 'appearance', 'cell', 'nucleus', 'many', 'cell', 'actively', 'replicating'], ['feature', 'scored', 'threepoint', 'scale', 'higher', 'score', 'indicating', 'less', 'healthy', 'looking', 'tissue'], ['grade', 'assigned', 'based', 'sum', 'three', 'score'], ['combined', 'score', '3', '4', '5', 'represent', 'grade', '1', 'slowergrowing', 'cancer'], ['score', '6', '7', 'represent', 'grade', '2', 'score', '8', '9', 'represent', 'grade', '3', 'fastergrowing', 'aggressive', 'cancer'], ['addition', 'grading', 'tumor', 'biopsy', 'sample', 'tested', 'immunohistochemistry', 'determine', 'tissue', 'contains', 'protein', 'estrogen', 'receptor', 'er', 'progesterone', 'receptor', 'pr', 'human', 'epidermal', 'growth', 'factor', 'receptor', '2', 'her2'], ['tumor', 'containing', 'either', 'er', 'pr', 'called', 'hormone', 'receptorpositive', 'treated', 'hormone', 'therapy'], ['around', '15', '20', 'tumor', 'contain', 'her2', 'treated', 'her2targeted', 'therapy'], ['remainder', 'contain', 'er', 'pr', 'her2', 'called', 'triplenegative', 'tumor', 'tend', 'grow', 'quickly', 'breast', 'cancer', 'type'], ['tumor', 'evaluated', 'breast', 'cancer', 'case', 'staged', 'using', 'american', 'joint', 'committee', 'cancer', 'union', 'international', 'cancer', 'control', 'tnm', 'staging', 'system'], ['score', 'assigned', 'based', 'characteristic', 'tumor', 'lymph', 'node', 'n', 'metastasis'], ['score', 'determine', 'size', 'extent', 'tumor'], ['tumor', 'less', '2', 'centimeter', 'cm', 'across', 'designated', 't1'], ['tumor', '2–5', 'cm', 'across', 't2'], ['tumor', 'greater', '5', 'cm', 'across', 't3'], ['tumor', 'extend', 'chest', 'wall', 'skin', 'designated', 't4'], ['n', 'score', 'based', 'whether', 'cancer', 'spread', 'nearby', 'lymph', 'node'], ['n0', 'indicates', 'spread', 'lymph', 'node'], ['n1', 'tumor', 'spread', 'closest', 'axillary', 'lymph', 'node', 'called', 'level', 'level', 'ii', 'axillary', 'lymph', 'node', 'armpit'], ['n2', 'spread', 'intramammary', 'lymph', 'node', 'side', 'breast', 'near', 'chest', 'center', 'axillary', 'lymph', 'node', 'appear', 'attached', 'tissue', 'around', 'sign', 'severely', 'affected', 'tissue'], ['n3', 'designates', 'tumor', 'spread', 'highest', 'axillary', 'lymph', 'node', 'called', 'level', '3', 'axillary', 'lymph', 'node', 'armpit', 'near', 'shoulder', 'supraclavicular', 'lymph', 'node', 'along', 'neck', 'axillary', 'intramammary', 'lymph', 'node'], ['score', 'binary', 'm0', 'indicates', 'evidence', 'metastasis', 'm1', 'indicates', 'metastasis', 'detected'], ['tnm', 'score', 'combined', 'tumor', 'grade', 'erprher2', 'status', 'calculate', 'cancer', 'case', 'prognostic', 'stage', 'group'], ['stage', 'group', 'range', 'best', 'prognosis', 'iv', 'worst', 'prognosis', 'group', 'ii', 'iii', 'divided', 'subgroup', 'ia', 'ib', 'iia', 'iib', 'iiia', 'iiib', 'iiic'], ['general', 'tumor', 'higher', 'n', 'score', 'higher', 'grade', 'assigned', 'higher', 'stage', 'group'], ['tumor', 'er', 'pr', 'her2', 'positive', 'slightly', 'lower', 'stage', 'group', 'negative'], ['tumor', 'metastasized', 'stage', 'iv', 'regardless', 'scored', 'characteristic'], ['management', 'breast', 'cancer', 'depends', 'affected', 'person', 'health', 'cancer', 'case', 'molecular', 'characteristic', 'far', 'tumor', 'spread', 'time', 'diagnosis'], ['whose', 'tumor', 'spread', 'beyond', 'breast', 'often', 'undergo', 'surgery', 'remove', 'tumor', 'surrounding', 'breast', 'tissue'], ['surgery', 'method', 'typically', 'chosen', 'spare', 'much', 'healthy', 'breast', 'tissue', 'possible', 'removing', 'tumor', 'lumpectomy', 'larger', 'part', 'breast', 'partial', 'mastectomy'], ['large', 'multiple', 'tumor', 'high', 'genetic', 'risk', 'subsequent', 'cancer', 'unable', 'receive', 'radiation', 'therapy', 'may', 'instead', 'opt', 'full', 'removal', 'affected', 'breast', 'full', 'mastectomy'], ['reduce', 'risk', 'cancer', 'spreading', 'woman', 'often', 'nearest', 'lymph', 'node', 'removed', 'procedure', 'called', 'sentinel', 'lymph', 'node', 'biopsy'], ['dye', 'injected', 'near', 'tumor', 'site', 'several', 'hour', 'later', 'lymph', 'node', 'dye', 'accumulates', 'removed'], ['surgery', 'many', 'undergo', 'radiotherapy', 'decrease', 'chance', 'cancer', 'recurrence'], ['lumpectomy', 'receive', 'radiation', 'whole', 'breast'], ['mastectomy', 'elevated', 'risk', 'tumor', 'spread', '–', 'tumor', 'greater', 'five', 'centimeter', 'wide', 'cancerous', 'cell', 'nearby', 'lymph', 'node', '–', 'receive', 'radiation', 'mastectomy', 'scar', 'chest', 'wall'], ['cancerous', 'cell', 'spread', 'nearby', 'lymph', 'node', 'lymph', 'node', 'irradiated', 'well'], ['radiation', 'typically', 'given', 'five', 'day', 'per', 'week', 'seven', 'week'], ['radiotherapy', 'breast', 'cancer', 'typically', 'delivered', 'via', 'external', 'beam', 'radiotherapy', 'device', 'focus', 'radiation', 'beam', 'onto', 'targeted', 'part', 'body'], ['instead', 'undergo', 'brachytherapy', 'radioactive', 'material', 'placed', 'device', 'inserted', 'surgical', 'site', 'tumor', 'removed'], ['fresh', 'radioactive', 'material', 'added', 'twice', 'day', 'five', 'day', 'device', 'removed'], ['surgery', 'plus', 'radiation', 'typically', 'eliminates', 'person', 'breast', 'tumor'], ['less', '5', 'treated', 'breast', 'tumor', 'grow', 'back'], ['surgery', 'radiation', 'breast', 'surgically', 'reconstructed', 'either', 'adding', 'breast', 'implant', 'transferring', 'excess', 'tissue', 'another', 'part', 'body'], ['chemotherapy', 'reduces', 'chance', 'cancer', 'recurring', 'next', 'ten', 'year', 'around', 'third'], ['however', '12', 'chemotherapy', 'experience', 'lifethreatening', 'permanent', 'side', 'effect'], ['balance', 'benefit', 'risk', 'chemotherapy', 'typically', 'offered', 'higher', 'risk', 'cancer', 'recurrence'], ['established', 'risk', 'cutoff', 'offering', 'chemotherapy', 'determining', 'receive', 'chemotherapy', 'controversial'], ['chemotherapy', 'drug', 'typically', 'given', 'two', 'threeweek', 'cycle', 'period', 'drug', 'treatment', 'interspersed', 'rest', 'period', 'recover', 'therapy', 'side', 'effect'], ['four', 'six', 'cycle', 'given', 'total'], ['many', 'class', 'chemotherapeutic', 'agent', 'effective', 'breast', 'cancer', 'treatment', 'including', 'dna', 'alkylating', 'drug', 'cyclophosphamide', 'anthracyclines', 'doxorubicin', 'epirubicin', 'antimetabolite', 'fluorouracil', 'capecitabine', 'methotrexate', 'taxanes', 'docetaxel', 'paclitaxel', 'platinumbased', 'chemotherapy', 'cisplatin', 'carboplatin'], ['chemotherapy', 'different', 'class', 'typically', 'given', 'combination', 'particular', 'chemotherapy', 'drug', 'selected', 'based', 'affected', 'person', 'health', 'different', 'chemotherapeutics', 'side', 'effect'], ['anthrocyclines', 'cyclophosphamide', 'cause', 'leukemia', '1', 'treated'], ['anthrocyclines', 'also', 'cause', 'congestive', 'heart', 'failure', 'around', '1', 'people', 'treated'], ['taxanes', 'cause', 'peripheral', 'neuropathy', 'permanent', '5', 'treated'], ['chemotherapy', 'agent', 'given', 'surgery', '–', 'called', 'neoadjuvant', 'therapy', '–', 'shrink', 'tumor', 'making', 'easier', 'safely', 'remove'], ['whose', 'tumor', 'her2positive', 'adding', 'her2targeted', 'antibody', 'trastuzumab', 'chemotherapy', 'reduces', 'chance', 'cancer', 'recurrence', 'death', 'least', 'third'], ['trastuzumab', 'given', 'weekly', 'every', 'three', 'week', 'twelve', 'month'], ['adding', 'second', 'her2targeted', 'antibody', 'pertuzumab', 'slightly', 'enhances', 'treatment', 'efficacy'], ['rare', 'case', 'trastuzumab', 'disrupt', 'heart', 'function', 'typically', 'given', 'conjunction', 'anthracyclines', 'also', 'damage', 'heart'], ['chemotherapy', 'course', 'whose', 'tumor', 'erpositive', 'prpositive', 'benefit', 'endocrine', 'therapy', 'reduces', 'level', 'estrogen', 'progesterone', 'hormone', 'receptorpositive', 'breast', 'cancer', 'require', 'survive'], ['tamoxifen', 'treatment', 'block', 'er', 'breast', 'tissue', 'reduces', 'risk', 'breast', 'cancer', 'death', 'around', '40', 'next', 'ten', 'year'], ['chemically', 'blocking', 'estrogen', 'production', 'gnrhtargeted', 'drug', 'goserelin', 'leuprolide', 'triptorelin', 'aromatase', 'inhibitor', 'anastrozole', 'letrozole', 'exemestane', 'slightly', 'improves', 'survival', 'severe', 'side', 'effect'], ['side', 'effect', 'estrogen', 'depletion', 'include', 'hot', 'flash', 'vaginal', 'discomfort', 'muscle', 'joint', 'pain'], ['endocrine', 'therapy', 'typically', 'recommended', 'least', 'five', 'year', 'surgery', 'chemotherapy', 'sometimes', 'continued', '10', 'year', 'longer'], ['woman', 'breast', 'cancer', 'lumpectomy', 'mastectomy', 'kept', 'breast', 'similar', 'survival', 'rate', 'double', 'mastectomy'], ['seems', 'survival', 'advantage', 'removing', 'breast', '7', 'chance', 'cancer', 'occurring', 'breast', '20', 'year'], ['metastatic', 'disease', 'around', '1', '5', 'people', 'treated', 'localized', 'breast', 'cancer', 'tumor', 'eventually', 'spread', 'distant', 'body', 'site', '–', 'commonly', 'nearby', 'bone', '67', 'case', 'liver', '41', 'lung', '37', 'brain', '13', 'peritoneum', '10'], ['metastatic', 'disease', 'receive', 'chemotherapy', 'typically', 'starting', 'capecitabine', 'anthracycline', 'taxane'], ['one', 'chemotherapy', 'drug', 'fails', 'control', 'cancer', 'another', 'started'], ['addition', 'chemotherapeutic', 'drug', 'used', 'localized', 'cancer', 'gemcitabine', 'vinorelbine', 'etoposide', 'epothilones', 'sometimes', 'effective'], ['bone', 'metastasis', 'benefit', 'regular', 'infusion', 'bonestrengthening', 'agent', 'denosumab', 'bisphosphonates', 'infusion', 'every', 'three', 'month', 'reduces', 'chance', 'bone', 'pain', 'fracture', 'bone', 'hypercalcemia'], ['70', 'erpositive', 'metastatic', 'breast', 'cancer', 'benefit', 'additional', 'endocrine', 'therapy'], ['therapy', 'option', 'include', 'used', 'localized', 'cancer', 'plus', 'toremifene', 'fulvestrant', 'often', 'used', 'combination', 'cdk46', 'inhibitor', 'palbociclib', 'ribociclib', 'abemaciclib'], ['one', 'endocrine', 'therapy', 'fails', 'benefit', 'transitioning', 'second', 'one'], ['respond', 'third', 'sequential', 'therapy', 'well'], ['adding', 'mtor', 'inhibitor', 'everolimus', 'slow', 'tumor', 'progression'], ['her2positive', 'metastatic', 'disease', 'benefit', 'continued', 'use', 'trastuzumab', 'alone', 'combination', 'pertuzumab', 'combination', 'chemotherapy'], ['whose', 'tumor', 'continue', 'progress', 'trastuzumab', 'benefit', 'her2targeted', 'antibody', 'drug', 'conjugate', 'her2', 'antibody', 'linked', 'chemotherapy', 'drug', 'trastuzumab', 'emtansine', 'trastuzumab', 'deruxtecan'], ['her2targeted', 'antibody', 'margetuximab', 'also', 'prolong', 'survival', 'her2', 'inhibitor', 'lapatinib', 'neratinib', 'tucatinib'], ['certain', 'therapy', 'targeted', 'whose', 'tumor', 'particular', 'gene', 'mutation', 'alpelisib', 'capivasertib', 'mutation', 'activating', 'protein', 'pik3ca'], ['parp', 'inhibitor', 'olaparib', 'talazoparib', 'mutation', 'inactivate', 'brca1', 'brca2'], ['immune', 'checkpoint', 'inhibitor', 'antibody', 'atezolizumab', 'whose', 'tumor', 'express', 'pdl1'], ['similar', 'immunotherapy', 'pembrolizumab', 'whose', 'tumor', 'mutation', 'various', 'dna', 'repair', 'pathway'], ['many', 'breast', 'cancer', 'therapy', 'side', 'effect', 'alleviated', 'appropriate', 'supportive', 'care'], ['chemotherapy', 'cause', 'hair', 'loss', 'nausea', 'vomiting', 'nearly', 'everyone', 'receives'], ['antiemetic', 'drug', 'alleviate', 'nausea', 'vomiting', 'cooling', 'scalp', 'cold', 'cap', 'chemotherapy', 'treatment', 'may', 'reduce', 'hair', 'loss'], ['many', 'complain', 'cognitive', 'issue', 'chemotherapy', 'treatment'], ['usually', 'resolve', 'within', 'month', 'end', 'chemotherapy', 'treatment'], ['endocrine', 'therapy', 'often', 'experience', 'hot', 'flash', 'muscle', 'joint', 'pain', 'vaginal', 'drynessdiscomfort', 'lead', 'issue', 'sex'], ['around', 'half', 'woman', 'hot', 'flash', 'alleviated', 'taking', 'antidepressant', 'pain', 'treated', 'physical', 'therapy', 'nonsteroidal', 'antiinflammatory', 'drug', 'counseling', 'use', 'personal', 'lubricant', 'improve', 'sexual', 'issue'], ['woman', 'nonmetastatic', 'breast', 'cancer', 'psychological', 'intervention', 'cognitive', 'behavioral', 'therapy', 'positive', 'effect', 'outcome', 'cognitive', 'impairment', 'anxiety', 'depression', 'mood', 'disturbance', 'also', 'improve', 'quality', 'life'], ['physical', 'activity', 'intervention', 'yoga', 'meditation', 'may', 'also', 'beneficial', 'effect', 'health', 'related', 'quality', 'life', 'cognitive', 'impairment', 'anxiety', 'fitness', 'physical', 'activity', 'woman', 'breast', 'cancer', 'following', 'adjuvant', 'therapy'], ['inperson', 'virtual', 'peer', 'support', 'group', 'patient', 'survivor', 'breast', 'cancer', 'promote', 'quality', 'life', 'companionship', 'based', 'similar', 'lived', 'experience'], ['potential', 'benefit', 'peer', 'support', 'particularly', 'impactful', 'woman', 'breast', 'cancer', 'facing', 'additional', 'unique', 'challenge', 'related', 'ethnicity', 'socioeconomic', 'status'], ['peer', 'support', 'group', 'tailored', 'adolescent', 'young', 'adult', 'woman', 'improve', 'coping', 'strategy', 'agespecific', 'type', 'distress', 'associated', 'breast', 'cancer', 'including', 'posttraumatic', 'stress', 'disorder', 'body', 'image', 'issue'], ['prognosis', 'breast', 'cancer', 'prognosis', 'varies', 'widely', 'depending', 'far', 'tumor', 'spread', 'time', 'diagnosis'], ['overall', '91', 'woman', 'diagnosed', 'breast', 'cancer', 'survive', 'least', 'five', 'year', 'diagnosis'], ['whose', 'tumor', 'completely', 'confined', 'breast', 'nearly', 'two', 'third', 'case', 'best', 'prognosis', '–', '99', 'survive', 'least', 'five', 'year'], ['whose', 'tumor', 'metastasized', 'distant', 'site', 'relatively', 'poor', 'prognosis', '–', '31', 'survive', 'least', 'five', 'year', 'time', 'diagnosis'], ['triplenegative', 'breast', 'cancer', '15', 'case', 'inflammatory', 'breast', 'cancer', '5', 'case', 'particularly', 'aggressive', 'relatively', 'poor', 'prognosis'], ['triplenegative', 'breast', 'cancer', 'overall', 'fiveyear', 'survival', 'rate', '77', '–', '91', 'whose', 'tumor', 'confined', 'breast', '12', 'metastasis'], ['inflammatory', 'breast', 'cancer', 'diagnosed', 'cancer', 'already', 'spread', 'skin', 'breast'], ['overall', 'fiveyear', 'survival', 'rate', '39', '19', 'metastasis'], ['relatively', 'rare', 'tumor', 'tubular', 'mucinous', 'medullary', 'growth', 'tend', 'better', 'prognosis'], ['addition', 'factor', 'influence', 'cancer', 'staging', 'person', 'age', 'also', 'impact', 'prognosis'], ['breast', 'cancer', 'age', '35', 'rare', 'likely', 'associated', 'genetic', 'predisposition', 'aggressive', 'cancer'], ['conversely', 'breast', 'cancer', 'aged', '75', 'associated', 'poorer', 'prognosis'], ['risk', 'factor', 'main', 'article', 'risk', 'factor', 'breast', 'cancer', 'hormonal', '80', 'variation', 'breast', 'cancer', 'frequency', 'across', 'country', 'due', 'difference', 'reproductive', 'history', 'impact', 'woman', 'level', 'female', 'sex', 'hormone', 'estrogen'], ['woman', 'begin', 'menstruating', 'earlier', 'age', '12', 'undergo', 'menopause', 'later', '51', 'increased', 'risk', 'developing', 'breast', 'cancer'], ['woman', 'give', 'birth', 'early', 'life', 'protected', 'breast', 'cancer', '–', 'someone', 'give', 'birth', 'teenager', 'around', '70', 'lower', 'risk', 'developing', 'breast', 'cancer', 'someone', 'child'], ['protection', 'wane', 'higher', 'maternal', 'age', 'first', 'birth', 'disappears', 'completely', 'age', '35', 'breastfeeding', 'also', 'reduces', 'one', 'chance', 'developing', 'breast', 'cancer', 'approximately', '4', 'reduction', 'breast', 'cancer', 'risk', 'every', '12', 'month', 'breastfeeding', 'experience'], ['lack', 'functioning', 'ovary', 'reduced', 'level', 'estrogen', 'therefore', 'greatly', 'reduced', 'breast', 'cancer', 'risk'], ['hormone', 'replacement', 'therapy', 'treatment', 'menopause', 'symptom', 'also', 'increase', 'woman', 'risk', 'developing', 'breast', 'cancer', 'though', 'effect', 'depends', 'type', 'duration', 'therapy'], ['combined', 'progesteroneestrogen', 'therapy', 'increase', 'breast', 'cancer', 'risk', '–', 'approximately', 'doubling', 'one', 'risk', '6–7', 'year', 'treatment', 'though', 'therapy', 'decrease', 'risk', 'colorectal', 'cancer'], ['hormone', 'treatment', 'estrogen', 'alone', 'effect', 'breast', 'cancer', 'risk', 'increase', 'one', 'risk', 'developing', 'endometrial', 'cancer', 'therefore', 'given', 'woman', 'undergone', 'hysterectomy'], ['1980s', 'abortion–breast', 'cancer', 'hypothesis', 'posited', 'induced', 'abortion', 'increased', 'risk', 'developing', 'breast', 'cancer'], ['hypothesis', 'subject', 'extensive', 'scientific', 'inquiry', 'concluded', 'neither', 'miscarriage', 'abortion', 'associated', 'heightened', 'risk', 'breast', 'cancer'], ['use', 'hormonal', 'birth', 'control', 'cause', 'breast', 'cancer', 'woman', 'effect', 'small', 'order', '001', 'per', 'user–year', 'temporary', 'offset', 'user', 'significantly', 'reduced', 'risk', 'ovarian', 'endometrial', 'cancer'], ['among', 'family', 'history', 'breast', 'cancer', 'use', 'modern', 'oral', 'contraceptive', 'appear', 'affect', 'risk', 'breast', 'cancer'], ['major', 'cause', 'sporadic', 'breast', 'cancer', 'associated', 'hormone', 'level'], ['breast', 'cancer', 'promoted', 'estrogen'], ['hormone', 'activates', 'development', 'breast', 'throughout', 'puberty', 'menstrual', 'cycle', 'pregnancy'], ['imbalance', 'estrogen', 'progesterone', 'menstrual', 'phase', 'cause', 'cell', 'proliferation'], ['moreover', 'oxidative', 'metabolite', 'estrogen', 'increase', 'dna', 'damage', 'mutation'], ['repeated', 'cycling', 'impairment', 'repair', 'process', 'transform', 'normal', 'cell', 'premalignant', 'eventually', 'malignant', 'cell', 'mutation'], ['premalignant', 'stage', 'high', 'proliferation', 'stromal', 'cell', 'activated', 'estrogen', 'support', 'development', 'breast', 'cancer'], ['ligand', 'binding', 'activation', 'er', 'regulate', 'gene', 'expression', 'interacting', 'estrogen', 'response', 'element', 'within', 'promotor', 'specific', 'gene'], ['expression', 'activation', 'er', 'due', 'lack', 'estrogen', 'stimulated', 'extracellular', 'signal'], ['er', 'directly', 'binding', 'several', 'protein', 'including', 'growth', 'factor', 'receptor', 'promote', 'expression', 'gene', 'related', 'cell', 'growth', 'survival'], ['breast', 'cancer', 'like', 'cancer', 'occurs', 'interaction', 'environmental', 'external', 'factor', 'genetically', 'susceptible', 'host'], ['normal', 'cell', 'divide', 'many', 'time', 'needed', 'stop'], ['attach', 'cell', 'stay', 'place', 'tissue'], ['cell', 'become', 'cancerous', 'lose', 'ability', 'stop', 'dividing', 'attach', 'cell', 'stay', 'belong', 'die', 'proper', 'time'], ['normal', 'cell', 'selfdestruct', 'programmed', 'cell', 'death', 'longer', 'needed'], ['cell', 'protected', 'programmed', 'death', 'several', 'protein', 'cluster', 'pathway'], ['one', 'protective', 'pathway', 'pi3kakt', 'pathway', 'another', 'rasmekerk', 'pathway'], ['sometimes', 'gene', 'along', 'protective', 'pathway', 'mutated', 'way', 'turn', 'permanently', 'rendering', 'cell', 'incapable', 'selfdestructing', 'longer', 'needed'], ['one', 'step', 'cause', 'cancer', 'combination', 'mutation'], ['normally', 'pten', 'protein', 'turn', 'pi3kakt', 'pathway', 'cell', 'ready', 'programmed', 'cell', 'death'], ['breast', 'cancer', 'gene', 'pten', 'protein', 'mutated', 'pi3kakt', 'pathway', 'stuck', 'position', 'cancer', 'cell', 'selfdestruct'], ['mutation', 'lead', 'breast', 'cancer', 'experimentally', 'linked', 'estrogen', 'exposure'], ['additionally', 'gprotein', 'coupled', 'estrogen', 'receptor', 'associated', 'various', 'cancer', 'female', 'reproductive', 'system', 'including', 'breast', 'cancer'], ['abnormal', 'growth', 'factor', 'signaling', 'interaction', 'stromal', 'cell', 'epithelial', 'cell', 'facilitate', 'malignant', 'cell', 'growth'], ['breast', 'adipose', 'tissue', 'overexpression', 'leptin', 'lead', 'increased', 'cell', 'proliferation', 'cancer'], ['mutation', 'associated', 'cancer', 'p53', 'brca1', 'brca2', 'occur', 'mechanism', 'correct', 'error', 'dna'], ['inherited', 'mutation', 'brca1', 'brca2', 'gene', 'interfere', 'repair', 'dna', 'crosslinks', 'doublestrand', 'break', 'known', 'function', 'encoded', 'protein'], ['carcinogen', 'cause', 'dna', 'damage', 'dna', 'crosslinks', 'doublestrand', 'break', 'often', 'require', 'repair', 'pathway', 'containing', 'brca1', 'brca2'], ['gata3', 'directly', 'control', 'expression', 'estrogen', 'receptor', 'er', 'gene', 'associated', 'epithelial', 'differentiation', 'loss', 'gata3', 'lead', 'loss', 'differentiation', 'poor', 'prognosis', 'due', 'cancer', 'cell', 'invasion', 'metastasis'], ['lifestyle', 'woman', 'reduce', 'risk', 'breast', 'cancer', 'maintaining', 'healthy', 'weight', 'reducing', 'alcohol', 'use', 'increasing', 'physical', 'activity', 'breastfeeding'], ['modification', 'might', 'prevent', '38', 'breast', 'cancer', 'u', '42', 'uk', '28', 'brazil', '20', 'china'], ['benefit', 'moderate', 'exercise', 'brisk', 'walking', 'seen', 'age', 'group', 'including', 'postmenopausal', 'woman'], ['high', 'level', 'physical', 'activity', 'reduce', 'risk', 'breast', 'cancer', '14'], ['strategy', 'encourage', 'regular', 'physical', 'activity', 'reduce', 'obesity', 'could', 'also', 'benefit', 'reduced', 'risk', 'cardiovascular', 'disease', 'diabetes'], ['study', 'included', 'data', '130957', 'woman', 'european', 'ancestry', 'found', 'strong', 'evidence', 'greater', 'level', 'physical', 'activity', 'less', 'sedentary', 'time', 'likely', 'reduce', 'breast', 'cancer', 'risk', 'result', 'generally', 'consistent', 'across', 'breast', 'cancer', 'subtypes'], ['american', 'cancer', 'society', 'american', 'society', 'clinical', 'oncology', 'advised', '2016', 'people', 'eat', 'diet', 'high', 'vegetable', 'fruit', 'whole', 'grain', 'legume'], ['eating', 'food', 'rich', 'soluble', 'fiber', 'contributes', 'reducing', 'breast', 'cancer', 'risk'], ['high', 'intake', 'citrus', 'fruit', 'associated', '10', 'reduction', 'risk', 'breast', 'cancer'], ['marine', 'omega3', 'polyunsaturated', 'fatty', 'acid', 'appear', 'reduce', 'risk'], ['high', 'consumption', 'soybased', 'food', 'may', 'reduce', 'risk'], ['preventive', 'surgery', 'removal', 'breast', 'breast', 'cancer', 'develops', 'called', 'preventive', 'mastectomy', 'reduces', 'risk', 'developing', 'breast', 'cancer', '95'], ['woman', 'genetically', 'predisposed', 'developing', 'breast', 'cancer', 'preventive', 'mastectomy', 'reduces', 'risk', 'dying', 'breast', 'cancer'], ['normal', 'risk', 'preventive', 'mastectomy', 'reduce', 'chance', 'dying', 'generally', 'recommended'], ['removing', 'second', 'breast', 'person', 'breast', 'cancer', 'contralateral', 'riskreducing', 'mastectomy', 'crrm', 'may', 'reduce', 'risk', 'cancer', 'second', 'breast', 'clear', 'whether', 'removing', 'second', 'breast', 'improves', 'chance', 'survival'], ['increasing', 'number', 'woman', 'test', 'positive', 'faulty', 'brca1', 'brca2', 'gene', 'choose', 'riskreducing', 'surgery'], ['average', 'waiting', 'time', 'undergoing', 'procedure', 'two', 'year', 'much', 'longer', 'recommended'], ['medication', 'selective', 'estrogen', 'receptor', 'modulators', 'serms', 'reduce', 'risk', 'breast', 'cancer', 'increase', 'risk', 'thromboembolism', 'endometrial', 'cancer'], ['overall', 'change', 'risk', 'death'], ['thus', 'recommended', 'prevention', 'breast', 'cancer', 'woman', 'average', 'risk', 'recommended', 'offered', 'high', 'risk', 'age', '35', 'benefit', 'breast', 'cancer', 'reduction', 'continues', 'least', 'five', 'year', 'stopping', 'course', 'treatment', 'medication'], ['aromatase', 'inhibitor', 'exemestane', 'anastrozole', 'may', 'effective', 'serms', 'tamoxifen', 'reducing', 'breast', 'cancer', 'risk', 'associated', 'increased', 'risk', 'endometrial', 'cancer', 'thromboembolism'], ['epidemiology', 'breast', 'cancer', 'common', 'invasive', 'cancer', 'woman', 'country', 'accounting', '30', 'cancer', 'case', 'woman'], ['2022', 'estimated', '23', 'million', 'woman', 'diagnosed', 'breast', 'cancer', '670000', 'died', 'disease'], ['incidence', 'breast', 'cancer', 'rising', 'around', '3', 'per', 'year', 'population', 'many', 'country', 'getting', 'older'], ['rate', 'breast', 'cancer', 'vary', 'across', 'world', 'generally', 'correlate', 'wealth'], ['around', '1', '12', 'woman', 'diagnosed', 'breast', 'cancer', 'wealthier', 'country', 'compared', '1', '27', 'lower', 'income', 'country'], ['difference', 'due', 'difference', 'menstrual', 'reproductive', 'history', '–', 'woman', 'wealthier', 'country', 'tend', 'begin', 'menstruating', 'earlier', 'child', 'later', 'factor', 'increase', 'risk', 'developing', 'breast', 'cancer'], ['people', 'lower', 'income', 'country', 'tend', 'less', 'access', 'breast', 'cancer', 'screening', 'treatment', 'breast', 'cancer', 'death', 'rate', 'tend', 'higher'], ['1', '71', 'woman', 'die', 'breast', 'cancer', 'wealthy', 'country', '1', '48', 'die', 'disease', 'lower', 'income', 'country'], ['breast', 'cancer', 'predominantly', 'affect', 'woman', 'less', '1', 'breast', 'cancer', 'men'], ['woman', 'develop', 'breast', 'cancer', 'early', 'adolescence', 'risk', 'increase', 'age', '75', 'case', 'woman', '50', 'year', 'old'], ['risk', 'woman', 'lifetime', 'approximately', '15', 'age', '40', '3', 'age', '50', '4', 'risk', 'age', '70', 'history', 'visibility', 'breast', 'cancer', 'form', 'cancer', 'often', 'described', 'ancient', 'document'], ['9–13', 'autopsy', 'rare', 'cancer', 'internal', 'organ', 'essentially', 'invisible', 'ancient', 'medicine'], ['breast', 'cancer', 'however', 'could', 'felt', 'skin', 'advanced', 'state', 'often', 'developed', 'fungating', 'lesion', 'tumor', 'would', 'become', 'necrotic', 'die', 'inside', 'causing', 'tumor', 'appear', 'break', 'ulcerate', 'skin', 'weeping', 'fetid', 'dark', 'fluid'], ['9–13', 'oldest', 'discovered', 'evidence', 'breast', 'cancer', 'egypt', 'date', 'back', '4200', 'year', 'sixth', 'dynasty'], ['study', 'woman', 'remains', 'necropolis', 'qubbet', 'elhawa', 'showed', 'typical', 'destructive', 'damage', 'due', 'metastatic', 'spread'], ['edwin', 'smith', 'papyrus', 'describes', 'eight', 'case', 'tumor', 'ulcer', 'breast', 'treated', 'cauterization'], ['writing', 'say', 'disease', 'treatment'], ['century', 'physician', 'described', 'similar', 'case', 'practice', 'conclusion'], ['ancient', 'medicine', 'time', 'greek', '17th', 'century', 'based', 'humoralism', 'thus', 'believed', 'breast', 'cancer', 'generally', 'caused', 'imbalance', 'fundamental', 'fluid', 'controlled', 'body', 'especially', 'excess', 'black', 'bile'], ['32', 'alternatively', 'seen', 'divine', 'punishment'], ['mastectomy', 'breast', 'cancer', 'performed', 'least', 'early', 'ad', '548', 'proposed', 'court', 'physician', 'aetios', 'amida', 'theodora'], ['9–13', 'doctor', 'achieved', 'greater', 'understanding', 'circulatory', 'system', '17th', 'century', 'could', 'link', 'breast', 'cancer', 'spread', 'lymph', 'node', 'armpit'], ['early', '18th', 'century', 'french', 'surgeon', 'jean', 'louis', 'petit', 'performed', 'total', 'mastectomy', 'included', 'removing', 'axillary', 'lymph', 'node', 'recognized', 'reduced', 'recurrence'], ['petits', 'work', 'built', 'method', 'surgeon', 'bernard', 'peyrilhe', '17th', 'century', 'additionally', 'removed', 'pectoral', 'muscle', 'underlying', 'breast', 'judged', 'greatly', 'improved', 'prognosis'], ['poor', 'result', 'considerable', 'risk', 'patient', 'meant', 'physician', 'share', 'opinion', 'surgeon', 'nicolaes', 'tulp', '17th', 'century', 'proclaimed', 'sole', 'remedy', 'timely', 'operation'], ['eminent', 'surgeon', 'richard', 'wiseman', 'documented', 'mid17th', 'century', 'following', '12', 'mastectomy', 'two', 'patient', 'died', 'operation', 'eight', 'patient', 'died', 'shortly', 'operation', 'progressive', 'cancer', 'two', '12', 'patient', 'cured'], ['6', 'physician', 'conservative', 'treatment', 'prescribed', 'early', 'stage', 'breast', 'cancer'], ['patient', 'treated', 'mixture', 'detox', 'purge', 'blood', 'letting', 'traditional', 'remedy', 'supposed', 'lower', 'acidity', 'alkaline', 'arsenic'], ['24', '1664', 'anne', 'austria', 'diagnosed', 'breast', 'cancer', 'initial', 'treatment', 'involved', 'compress', 'saturated', 'hemlock', 'juice'], ['lump', 'increased', 'king', 'physician', 'commenced', 'treatment', 'arsenic', 'ointment'], ['25', 'royal', 'patient', 'died', '1666', 'atrocious', 'pain'], ['26', 'failing', 'treatment', 'breast', 'cancer', 'led', 'search', 'new', 'treatment', 'spurring', 'market', 'remedy', 'advertised', 'sold', 'quack', 'herbalist', 'chemist', 'apothecary'], ['lack', 'anesthesia', 'antiseptic', 'made', 'mastectomy', 'painful', 'dangerous', 'ordeal'], ['18th', 'century', 'wide', 'variety', 'anatomical', 'discovery', 'accompanied', 'new', 'theory', 'cause', 'growth', 'breast', 'cancer'], ['investigative', 'surgeon', 'john', 'hunter', 'claimed', 'neural', 'fluid', 'generated', 'breast', 'cancer'], ['surgeon', 'proposed', 'milk', 'within', 'mammary', 'duct', 'led', 'cancerous', 'growth'], ['theory', 'trauma', 'breast', 'cause', 'malignant', 'change', 'breast', 'tissue', 'advanced'], ['discovery', 'breast', 'lump', 'swelling', 'fueled', 'controversy', 'hard', 'tumor', 'whether', 'lump', 'benign', 'stage', 'cancer'], ['medical', 'opinion', 'necessary', 'immediate', 'treatment', 'varied'], ['5', 'surgeon', 'benjamin', 'bell', 'advocated', 'removal', 'entire', 'breast', 'even', 'portion', 'affected'], ['breast', 'cancer', 'uncommon', '19th', 'century', 'improvement', 'sanitation', 'control', 'deadly', 'infectious', 'disease', 'resulted', 'dramatic', 'increase', 'lifespan'], ['previously', 'woman', 'died', 'young', 'developed', 'breast', 'cancer'], ['1878', 'article', 'scientific', 'american', 'described', 'historical', 'treatment', 'pressure', 'intended', 'induce', 'local', 'ischemia', 'case', 'surgical', 'removal', 'possible'], ['william', 'stewart', 'halsted', 'started', 'performing', 'radical', 'mastectomy', '1882', 'helped', 'greatly', 'advance', 'general', 'surgical', 'technology', 'aseptic', 'technique', 'anesthesia'], ['halsted', 'radical', 'mastectomy', 'often', 'involved', 'removing', 'breast', 'associated', 'lymph', 'node', 'underlying', 'chest', 'muscle'], ['often', 'led', 'longterm', 'pain', 'disability', 'seen', 'necessary', 'prevent', 'cancer', 'recurring'], ['102–106', 'advent', 'halsted', 'radical', 'mastectomy', '20year', 'survival', 'rate', '10', 'halsteds', 'surgery', 'raised', 'rate', '50'], ['1', 'breast', 'cancer', 'staging', 'system', 'developed', '1920s', '1930s', 'determining', 'extent', 'cancer', 'developed', 'growing', 'spreading'], ['102–106', 'first', 'casecontrolled', 'study', 'breast', 'cancer', 'epidemiology', 'done', 'janet', 'laneclaypon', 'published', 'comparative', 'study', '1926', '500', 'breast', 'cancer', 'case', '500', 'control', 'background', 'lifestyle', 'british', 'ministry', 'health'], ['radical', 'mastectomy', 'remained', 'standard', 'care', 'usa', '1970s', 'europe', 'breastsparing', 'procedure', 'often', 'followed', 'radiation', 'therapy', 'generally', 'adopted', '1950s'], ['102–106', '1955', 'george', 'crile', 'jr', 'published', 'cancer', 'common', 'sense', 'arguing', 'cancer', 'patient', 'needed', 'understand', 'available', 'treatment', 'option'], ['crile', 'became', 'close', 'friend', 'environmentalist', 'rachel', 'carson', 'undergone', 'halsted', 'radical', 'mastectomy', '1960', 'treat', 'malign', 'breast', 'cancer'], ['39–40', 'u', 'oncologist', 'jerome', 'urban', 'promoted', 'super', 'radical', 'mastectomy', 'taking', 'even', 'tissue', '1963', 'tenyear', 'survival', 'rate', 'proved', 'equal', 'lessdamaging', 'radical', 'mastectomy'], ['102–106', 'carson', 'died', '1964', 'crile', 'went', 'published', 'wide', 'variety', 'article', 'popular', 'press', 'medical', 'journal', 'challenging', 'widespread', 'use', 'halsted', 'radical', 'mastectomy'], ['1973', 'crile', 'published', 'woman', 'know', 'breast', 'cancer', 'controversy'], ['1974', 'betty', 'ford', 'diagnosed', 'breast', 'cancer', 'option', 'treating', 'breast', 'cancer', 'openly', 'discussed', 'press'], ['58', '1970s', 'new', 'understanding', 'metastasis', 'led', 'perceiving', 'cancer', 'systemic', 'illness', 'well', 'localized', 'one', 'sparing', 'procedure', 'developed', 'proved', 'equally', 'effective'], ['1980s', '1990s', 'thousand', 'woman', 'successfully', 'completed', 'standard', 'treatment', 'demanded', 'received', 'highdose', 'bone', 'marrow', 'transplant', 'thinking', 'would', 'lead', 'better', 'longterm', 'survival'], ['however', 'proved', 'completely', 'ineffective', '15–20', 'woman', 'died', 'brutal', 'treatment'], ['200–203', '1995', 'report', 'nurse', 'health', 'study', '2002', 'conclusion', 'womens', 'health', 'initiative', 'trial', 'conclusively', 'proved', 'hrt', 'significantly', 'increased', 'incidence', 'breast', 'cancer'], ['society', 'culture', '20th', 'century', 'breast', 'cancer', 'feared', 'discussed', 'hushed', 'tone', 'shameful'], ['little', 'could', 'safely', 'done', 'primitive', 'surgical', 'technique', 'woman', 'tended', 'suffer', 'silently', 'rather', 'seeking', 'care'], ['citation', 'needed', 'surgery', 'advanced', 'longterm', 'survival', 'rate', 'improved', 'woman', 'began', 'raising', 'awareness', 'disease', 'possibility', 'successful', 'treatment'], ['womens', 'field', 'army', 'run', 'american', 'society', 'control', 'cancer', 'later', 'american', 'cancer', 'society', '1930s', '1940s', 'one', 'first', 'organized', 'campaign'], ['1952', 'first', 'peertopeer', 'support', 'group', 'called', 'reach', 'recovery', 'began', 'providing', 'postmastectomy', 'inhospital', 'visit', 'woman', 'survived', 'breast', 'cancer'], ['37–38', 'breast', 'cancer', 'movement', '1980s', '1990s', 'developed', 'larger', 'feminist', 'movement', 'womens', 'health', 'movement', '20th', 'century'], ['4', 'series', 'political', 'educational', 'campaign', 'partly', 'inspired', 'politically', 'socially', 'effective', 'aid', 'awareness', 'campaign', 'resulted', 'widespread', 'acceptance', 'second', 'opinion', 'surgery', 'less', 'invasive', 'surgical', 'procedure', 'support', 'group', 'advance', 'care'], ['pink', 'ribbon', 'pink', 'ribbon', 'prominent', 'symbol', 'breast', 'cancer', 'awareness'], ['pink', 'ribbon', 'made', 'inexpensively', 'sometimes', 'sold', 'fundraiser', 'much', 'like', 'poppy', 'remembrance', 'day'], ['may', 'worn', 'honor', 'diagnosed', 'breast', 'cancer', 'identify', 'product', 'manufacturer', 'would', 'like', 'sell', 'consumer', 'interested', 'breast', 'cancer'], ['27–72', '1990s', 'breast', 'cancer', 'awareness', 'campaign', 'launched', 'usbased', 'corporation'], ['part', 'causerelated', 'marketing', 'campaign', 'corporation', 'donated', 'variety', 'breast', 'cancer', 'initiative', 'every', 'pink', 'ribbon', 'product', 'purchased'], ['132–133', 'wall', 'street', 'journal', 'noted', 'strong', 'emotion', 'provoked', 'breast', 'cancer', 'translate', 'company', 'bottom', 'line'], ['many', 'u', 'corporation', 'donated', 'existing', 'breast', 'cancer', 'initiative', 'others', 'avon', 'established', 'breast', 'cancer', 'foundation', 'back', 'pink', 'ribbon', 'product'], ['135–136', 'wearing', 'displaying', 'pink', 'ribbon', 'criticized', 'opponent', 'practice', 'kind', 'slacktivism', 'practical', 'positive', 'effect'], ['also', 'criticized', 'hypocrisy', 'people', 'wear', 'pink', 'ribbon', 'show', 'good', 'towards', 'woman', 'breast', 'cancer', 'oppose', 'womens', 'practical', 'goal', 'like', 'patient', 'right', 'antipollution', 'legislation'], ['366–368', 'critic', 'say', 'feelgood', 'nature', 'pink', 'ribbon', 'pink', 'consumption', 'distracts', 'society', 'lack', 'progress', 'preventing', 'curing', 'breast', 'cancer'], ['365–366', 'also', 'criticized', 'reinforcing', 'gender', 'stereotype', 'objectifying', 'woman', 'breast'], ['372–374', 'breast', 'cancer', 'action', 'launched', 'think', 'pink', 'campaign', '2002', 'pinkwashing', 'target', 'business', 'coopted', 'pink', 'campaign', 'promote', 'product', 'cause', 'breast', 'cancer', 'alcoholic', 'beverage'], ['breast', 'cancer', 'culture', '2006', 'book', 'pink', 'ribbon', 'inc', 'breast', 'cancer', 'politics', 'philanthropy', 'samantha', 'king', 'claimed', 'breast', 'cancer', 'transformed', 'serious', 'disease', 'individual', 'tragedy', 'marketdriven', 'industry', 'survivorship', 'corporate', 'sale', 'pitch'], ['2010', 'gayle', 'sulik', 'argued', 'primary', 'purpose', 'goal', 'breast', 'cancer', 'culture', 'maintain', 'breast', 'cancer', 'dominance', 'preeminent', 'womens', 'health', 'issue', 'promote', 'appearance', 'society', 'something', 'effective', 'breast', 'cancer', 'sustain', 'expand', 'social', 'political', 'financial', 'power', 'breast', 'cancer', 'activist'], ['57', 'year', 'barbara', 'ehrenreich', 'published', 'opinion', 'piece', 'harper', 'magazine', 'lamenting', 'breast', 'cancer', 'culture', 'breast', 'cancer', 'therapy', 'viewed', 'rite', 'passage', 'rather', 'disease'], ['fit', 'mold', 'woman', 'breast', 'cancer', 'need', 'normalize', 'feminize', 'appearance', 'minimize', 'disruption', 'health', 'issue', 'cause', 'anyone', 'else'], ['anger', 'sadness', 'negativity', 'must', 'silenced'], ['cultural', 'model', 'people', 'conform', 'model', 'given', 'social', 'status', 'case', 'cancer', 'survivor'], ['woman', 'reject', 'model', 'shunned', 'punished', 'shamed'], ['culture', 'criticized', 'treating', 'adult', 'woman', 'like', 'little', 'girl', 'evidenced', 'baby', 'toy', 'pink', 'teddy', 'bear', 'given', 'adult', 'woman'], ['emphasis', '2009', 'u', 'science', 'journalist', 'christie', 'aschwanden', 'criticized', 'emphasis', 'breast', 'cancer', 'screening', 'may', 'harming', 'woman', 'subjecting', 'unnecessary', 'radiation', 'biopsy', 'surgery'], ['onethird', 'diagnosed', 'breast', 'cancer', 'might', 'recede'], ['screening', 'mammography', 'efficiently', 'find', 'nonlifethreatening', 'asymptomatic', 'breast', 'cancer', 'precancers', 'even', 'overlooking', 'serious', 'cancer'], ['according', 'cancer', 'researcher', 'h', 'gilbert', 'welch', 'screening', 'mammography', 'taken', 'braindead', 'approach', 'say', 'best', 'test', 'one', 'find', 'cancer', 'rather', 'one', 'find', 'dangerous', 'cancer'], ['2002', 'noted', 'result', 'breast', 'cancer', 'high', 'visibility', 'statistical', 'result', 'misinterpreted', 'claim', 'one', 'eight', 'woman', 'diagnosed', 'breast', 'cancer', 'life', '–', 'claim', 'depends', 'unrealistic', 'assumption', 'woman', 'die', 'disease', 'age', '95', '199–200', '2010', 'breast', 'cancer', 'survival', 'rate', 'europe', '91', 'one', 'year', '65', 'five', 'year'], ['usa', 'fiveyear', 'survival', 'rate', 'localized', 'breast', 'cancer', '968', 'case', 'metastasis', '206'], ['prognosis', 'breast', 'cancer', 'stage', 'relatively', 'favorable', 'compared', 'prognosis', 'cancer', 'breast', 'cancer', 'cause', 'death', 'among', 'woman', '139', 'cancer', 'death'], ['second', 'common', 'cause', 'death', 'cancer', 'woman', 'lung', 'cancer', 'common', 'cancer', 'worldwide', 'men', 'woman'], ['improved', 'survival', 'rate', 'made', 'breast', 'cancer', 'prevalent', 'cancer', 'world'], ['2010', 'estimated', '36', 'million', 'woman', 'worldwide', 'breast', 'cancer', 'diagnosis', 'past', 'five', 'year', '14', 'million', 'male', 'female', 'survivor', 'lung', 'cancer', 'alive'], ['health', 'disparity', 'breast', 'cancer', 'ethnic', 'disparity', 'mortality', 'rate', 'breast', 'cancer', 'well', 'breast', 'cancer', 'treatment'], ['breast', 'cancer', 'prevalent', 'cancer', 'affecting', 'woman', 'every', 'ethnic', 'group', 'united', 'state'], ['breast', 'cancer', 'incidence', 'among', 'black', 'woman', 'aged', '45', 'older', 'higher', 'white', 'woman', 'age', 'group'], ['white', 'woman', 'aged', '60–84', 'higher', 'incidence', 'rate', 'breast', 'cancer', 'black', 'woman'], ['despite', 'black', 'woman', 'every', 'age', 'likely', 'succumb', 'breast', 'cancer'], ['breast', 'cancer', 'treatment', 'improved', 'greatly', 'year', 'black', 'woman', 'still', 'less', 'likely', 'obtain', 'treatment', 'compared', 'white', 'woman'], ['risk', 'factor', 'socioeconomic', 'status', 'latestage', 'breast', 'cancer', 'diagnosis', 'genetic', 'difference', 'tumor', 'subtypes', 'difference', 'healthcare', 'access', 'contribute', 'disparity'], ['socioeconomic', 'determinant', 'affecting', 'disparity', 'breast', 'cancer', 'illness', 'include', 'poverty', 'culture', 'social', 'injustice'], ['hispanic', 'woman', 'incidence', 'breast', 'cancer', 'lower', 'nonhispanic', 'woman', 'often', 'diagnosed', 'later', 'stage', 'white', 'woman', 'larger', 'tumor'], ['black', 'woman', 'usually', 'diagnosed', 'breast', 'cancer', 'younger', 'age', 'white', 'woman'], ['median', 'age', 'diagnosis', 'black', 'woman', '59', 'comparison', '62', 'white', 'woman'], ['incidence', 'breast', 'cancer', 'black', 'woman', 'increased', '04', 'per', 'year', 'since', '1975', '15', 'per', 'year', 'among', 'asianpacific', 'islander', 'woman', 'since', '1992', 'incidence', 'rate', 'stable', 'nonhispanic', 'white', 'hispanic', 'native', 'american', 'woman'], ['fiveyear', 'survival', 'rate', 'noted', '81', 'black', 'woman', '92', 'white', 'woman'], ['chinese', 'japanese', 'woman', 'highest', 'survival', 'rate'], ['disparity', 'breast', 'cancer', 'screening', 'lowincome', 'immigrant', 'disabled', 'racial', 'sexual', 'minority', 'woman', 'less', 'likely', 'undergo', 'breast', 'cancer', 'screening', 'thus', 'likely', 'receive', 'latestage', 'diagnosis'], ['ensuring', 'equitable', 'health', 'care', 'including', 'breast', 'cancer', 'screening', 'positively', 'affect', 'disparity'], ['effort', 'promote', 'awareness', 'significance', 'screening', 'informational', 'material', 'ineffective', 'reducing', 'disparity'], ['successful', 'method', 'directly', 'address', 'barrier', 'prevent', 'access', 'screening', 'language', 'barrier', 'lack', 'health', 'insurance'], ['community', 'outreach', 'underserved', 'community', 'patient', 'navigator', 'advocate', 'offer', 'woman', 'personalized', 'assistance', 'attending', 'screening', 'followup', 'appointment'], ['however', 'longterm', 'benefit', 'unclear', 'primarily', 'due', 'lack', 'resource', 'staff', 'sustain', 'communitybased', 'solution'], ['legislation', 'requires', 'mandatory', 'insurance', 'coverage', 'language', 'assistance', 'mammogram', 'also', 'increased', 'screening', 'rate', 'particularly', 'among', 'ethnic', 'minority', 'community'], ['innovative', 'solution', 'proven', 'effective', 'include', 'mobile', 'screening', 'vehicle', 'telehealth', 'consultation', 'online', 'tool', 'assess', 'potential', 'risk', 'sign', 'breast', 'cancer'], ['disparity', 'breast', 'cancer', 'research', 'diverse', 'pool', 'participant', 'breast', 'cancer', 'research', 'facilitates', 'investigation', 'disease', 'unique', 'risk', 'development', 'pattern', 'ethnic', 'minority', 'population'], ['population', 'experience', 'better', 'health', 'outcome', 'medical', 'treatment', 'designed', 'based', 'research', 'diverse', 'patient', 'representation'], ['within', 'united', 'state', 'less', '3', 'patient', 'clinical', 'trial', 'identify', 'black', 'despite', 'representing', '127', 'national', 'population'], ['hispanic', 'indigenous', 'woman', 'also', 'significantly', 'underrepresented', 'breast', 'cancer', 'research'], ['lengthy', 'involvement', 'clinical', 'trial', 'without', 'financial', 'compensation', 'discourages', 'participation', 'lowincome', 'woman', 'unable', 'miss', 'work', 'afford', 'traveling', 'expense'], ['monetary', 'compensation', 'language', 'interpreter', 'patient', 'navigator', 'increase', 'diversity', 'participant', 'research', 'clinical', 'trial'], ['special', 'population', 'men', 'breast', 'cancer', 'relatively', 'uncommon', 'men', 'occur'], ['typically', 'breast', 'tumor', 'appears', 'lump', 'breast'], ['men', 'develop', 'gynecomastia', 'enlargement', 'breast', 'tissue', 'due', 'hormone', 'imbalance', 'increased', 'risk', 'men', 'diseaseassociated', 'variation', 'brca2', 'gene', 'high', 'exposure', 'estrogen', 'men', 'klinefelter', 'syndrome', 'two', 'copy', 'x', 'chromosome', 'naturally', 'high', 'estrogen', 'level'], ['treatment', 'typically', 'involves', 'surgery', 'followed', 'radiation', 'needed'], ['around', '90', 'men', 'tumor', 'erpositive', 'treated', 'endocrine', 'therapy', 'typically', 'tamoxifen'], ['disease', 'course', 'prognosis', 'similar', 'woman', 'similar', 'age', 'similar', 'disease', 'characteristic'], ['pregnant', 'woman', 'diagnosing', 'breast', 'cancer', 'pregnant', 'woman', 'often', 'delayed', 'symptom', 'masked', 'pregnancyrelated', 'breast', 'change'], ['diagnostic', 'path', 'nonpregnant', 'woman', 'except', 'radiography', 'abdomen', 'avoided'], ['chemotherapy', 'avoided', 'first', 'trimester', 'safely', 'administered', 'rest', 'pregnancy', 'term'], ['antiher2', 'treatment', 'endocrine', 'therapy', 'delayed', 'delivery'], ['treatment', 'given', 'delivery', 'cross', 'breast', 'milk', 'breast', 'feeding', 'generally', 'possible'], ['prognosis', 'pregnant', 'woman', 'breast', 'cancer', 'similar', 'nonpregnant', 'woman', 'similar', 'age'], ['research', 'treatment', 'evaluated', 'clinical', 'trial'], ['includes', 'individual', 'drug', 'combination', 'drug', 'surgical', 'radiation', 'technique', 'investigation', 'include', 'new', 'type', 'targeted', 'therapy', 'cancer', 'vaccine', 'oncolytic', 'virotherapy', 'gene', 'therapy', 'immunotherapy'], ['latest', 'research', 'reported', 'annually', 'scientific', 'meeting', 'american', 'society', 'clinical', 'oncology', 'san', 'antonio', 'breast', 'cancer', 'symposium', 'st', 'gallen', 'oncology', 'conference', 'st', 'gallen', 'switzerland'], ['study', 'reviewed', 'professional', 'society', 'organization', 'formulated', 'guideline', 'specific', 'treatment', 'group', 'risk', 'category'], ['fenretinide', 'retinoid', 'also', 'studied', 'way', 'reduce', 'risk', 'breast', 'cancer'], ['particular', 'combination', 'ribociclib', 'plus', 'endocrine', 'therapy', 'subject', 'clinical', 'trial'], ['2019', 'review', 'found', 'moderate', 'certainty', 'evidence', 'giving', 'people', 'antibiotic', 'breast', 'cancer', 'surgery', 'helped', 'prevent', 'surgical', 'site', 'infection', 'ssi'], ['study', 'required', 'determine', 'effective', 'antibiotic', 'protocol', 'use', 'woman', 'undergoing', 'immediate', 'breast', 'reconstruction'], ['cryoablation', '2014', 'cryoablation', 'studied', 'see', 'could', 'substitute', 'lumpectomy', 'small', 'cancer'], ['tentative', 'evidence', 'tumor', 'less', '2', 'centimeter', 'across'], ['may', 'also', 'used', 'surgery', 'possible'], ['another', 'review', 'state', 'cryoablation', 'look', 'promising', 'early', 'breast', 'cancer', 'small', 'size'], ['breast', 'cancer', 'cell', 'line', 'see', 'also', 'list', 'breast', 'cancer', 'cell', 'line', 'part', 'current', 'knowledge', 'breast', 'carcinoma', 'based', 'vivo', 'vitro', 'study', 'performed', 'cell', 'line', 'derived', 'breast', 'cancer'], ['provide', 'unlimited', 'source', 'homogenous', 'selfreplicating', 'material', 'free', 'contaminating', 'stromal', 'cell', 'often', 'easily', 'cultured', 'simple', 'standard', 'medium'], ['first', 'breast', 'cancer', 'cell', 'line', 'described', 'bt20', 'established', '1958', 'since', 'despite', 'sustained', 'work', 'area', 'number', 'permanent', 'line', 'obtained', 'strikingly', 'low', '100'], ['indeed', 'attempt', 'culture', 'breast', 'cancer', 'cell', 'line', 'primary', 'tumor', 'largely', 'unsuccessful'], ['poor', 'efficiency', 'often', 'due', 'technical', 'difficulty', 'associated', 'extraction', 'viable', 'tumor', 'cell', 'surrounding', 'stroma'], ['available', 'breast', 'cancer', 'cell', 'line', 'issued', 'metastatic', 'tumor', 'mainly', 'pleural', 'effusion'], ['effusion', 'provided', 'generally', 'large', 'number', 'dissociated', 'viable', 'tumor', 'cell', 'little', 'contamination', 'fibroblast', 'tumor', 'stroma', 'cell'], ['many', 'currently', 'used', 'bcc', 'line', 'established', 'late', '1970s'], ['namely', 'mcf7', 't47d', 'mdamb231', 'skbr3', 'account', 'twothirds', 'abstract', 'reporting', 'study', 'mentioned', 'breast', 'cancer', 'cell', 'line', 'concluded', 'medlinebased', 'survey'], ['molecular', 'marker', 'metabolic', 'marker', 'clinically', 'useful', 'metabolic', 'marker', 'breast', 'cancer', 'estrogen', 'progesterone', 'receptor', 'used', 'predict', 'response', 'hormone', 'therapy'], ['new', 'potentially', 'new', 'marker', 'breast', 'cancer', 'include', 'brca1', 'brca2', 'identify', 'people', 'high', 'risk', 'developing', 'breast', 'cancer', 'her2medical', 'citation', 'needed', 'scd1', 'predicting', 'response', 'therapeutic', 'regimen', 'urokinase', 'plasminogen', 'activator', 'pa11', 'scd1', 'assessing', 'prognosis'], ['medical', 'citation', 'needed', 'artificial', 'intelligence', 'integration', 'artificial', 'intelligence', 'ai', 'breast', 'cancer', 'diagnosis', 'management', 'potential', 'improve', 'healthcare', 'practice', 'enhance', 'patient', 'care'], ['adoption', 'advanced', 'technology', 'like', 'surgical', 'robot', 'healthcare', 'provider', 'able', 'achieve', 'greater', 'accuracy', 'efficiency', 'surgery', 'related', 'breast', 'disease'], ['ai', 'used', 'predict', 'breast', 'cancer', 'risk'], ['aidriven', 'robot', 'use', 'algorithm', 'provide', 'realtime', 'guidance', 'analyze', 'imaging', 'data', 'execute', 'procedure', 'precision', 'ultimately', 'leading', 'improved', 'surgical', 'outcome', 'people', 'breast', 'cancer'], ['moreover', 'ai', 'potential', 'transform', 'method', 'monitoring', 'personalized', 'treatment', 'using', 'remote', 'monitoring', 'system', 'facilitate', 'continuous', 'observation', 'person', 'health', 'status', 'assist', 'early', 'detection', 'disease', 'progression', 'enable', 'individualized', 'treatment', 'option'], ['overall', 'impact', 'technological', 'advancement', 'enhances', 'quality', 'care', 'promoting', 'interactive', 'personalized', 'healthcare', 'solution']]\n"
          ]
        }
      ]
    },
    {
      "cell_type": "code",
      "execution_count": 16,
      "metadata": {
        "id": "HsZZrTXqxLFT"
      },
      "outputs": [],
      "source": [
        "# Helper to get the embedding of a sentence\n",
        "def get_sentence_embedding(sentence, model):\n",
        "    words = LemNormalize(sentence)\n",
        "    embedding = np.mean([model.wv[word] for word in words if word in model.wv], axis=0)\n",
        "    return embedding if isinstance(embedding, np.ndarray) else np.zeros(model.vector_size)\n",
        "\n",
        "# Step 2: Compute embeddings for all sentences in the corpus\n",
        "corpus_embeddings = [get_sentence_embedding(sent, word2vec_model) for sent in sent_tokens]\n"
      ]
    },
    {
      "cell_type": "markdown",
      "metadata": {
        "id": "VrxfExCiyHAC"
      },
      "source": [
        "## **Generate Responses**"
      ]
    },
    {
      "cell_type": "code",
      "execution_count": 17,
      "metadata": {
        "id": "nuHs9rvuxLCE"
      },
      "outputs": [],
      "source": [
        "## First Approuch\n",
        "\n",
        "\n",
        "# Re-tokenize the corpus by paragraphs\n",
        "para_tokens = raw.split('\\n\\n')  # Assuming paragraphs are separated by double newlines\n",
        "corpus_embeddings_1st = [get_sentence_embedding(para, word2vec_model) for para in para_tokens]\n",
        "\n",
        "def response(user_response):\n",
        "    chatbot_response = ''\n",
        "    user_embedding = get_sentence_embedding(user_response, word2vec_model)\n",
        "\n",
        "    # Calculate cosine similarity with corpus embeddings\n",
        "    similarities = cosine_similarity([user_embedding], corpus_embeddings_1st)\n",
        "    idx = np.argmax(similarities)\n",
        "\n",
        "    # Check similarity threshold\n",
        "    if similarities[0][idx] < 0.2:  # Adjust this threshold if needed\n",
        "        chatbot_response = \"I am sorry! I don't understand you.\"\n",
        "    else:\n",
        "        chatbot_response = para_tokens[idx]  # Return the most similar paragraph\n",
        "\n",
        "    return chatbot_response\n"
      ]
    },
    {
      "cell_type": "code",
      "execution_count": 19,
      "metadata": {
        "id": "Sitb8rN8AV1-"
      },
      "outputs": [],
      "source": [
        "## Second approatch\n",
        "\n",
        "\n",
        "def response(user_response):\n",
        "    chatbot_response = ''\n",
        "    user_embedding = get_sentence_embedding(user_response, word2vec_model)\n",
        "\n",
        "    # Calculate cosine similarity with corpus embeddings\n",
        "    similarities = cosine_similarity([user_embedding], corpus_embeddings)\n",
        "    idx = np.argmax(similarities)\n",
        "\n",
        "    # Check similarity threshold\n",
        "    if similarities[0][idx] < 0.2:  # Adjust this threshold if needed\n",
        "        chatbot_response = \"I am sorry! I don't understand you.\"\n",
        "    else:\n",
        "        # Include the neighboring sentences for context\n",
        "        start_idx = max(0, idx - 1)\n",
        "        end_idx = min(len(sent_tokens), idx + 2)  # Adjust to include more or fewer sentences\n",
        "        chatbot_response = \" \".join(sent_tokens[start_idx:end_idx])\n",
        "\n",
        "    return chatbot_response\n"
      ]
    },
    {
      "cell_type": "code",
      "execution_count": 21,
      "metadata": {
        "id": "mlWTuUrECbIi"
      },
      "outputs": [],
      "source": [
        "## Third approach\n",
        "def response(user_response, top_k=3):\n",
        "    chatbot_response = ''\n",
        "    user_embedding = get_sentence_embedding(user_response, word2vec_model)\n",
        "\n",
        "    # Calculate cosine similarity with corpus embeddings\n",
        "    similarities = cosine_similarity([user_embedding], corpus_embeddings)[0]\n",
        "\n",
        "    # Get the indices of the top-k similar sentences\n",
        "    top_k_indices = similarities.argsort()[-top_k:][::-1]\n",
        "\n",
        "    # Construct the response from top-k similar sentences\n",
        "    chatbot_response = \" \".join([sent_tokens[idx] for idx in top_k_indices if similarities[idx] > 0.2])  # Adjust threshold if needed\n",
        "\n",
        "    if not chatbot_response:\n",
        "        chatbot_response = \"I am sorry! I don't understand you.\"\n",
        "\n",
        "    return chatbot_response"
      ]
    },
    {
      "cell_type": "code",
      "execution_count": 22,
      "metadata": {
        "colab": {
          "base_uri": "https://localhost:8080/",
          "height": 734
        },
        "id": "HmFFT-QsxK-b",
        "outputId": "618d3931-9721-452a-b2a4-76d6c0478270"
      },
      "outputs": [
        {
          "output_type": "stream",
          "name": "stdout",
          "text": [
            "Hello, there my name is Aneka. I will answer your queries. If you want to exit, type Bye!\n",
            "You: hey\n",
            "Aneka: hi\n",
            "You: hii\n",
            "Aneka: I am sorry! I don't understand you.\n",
            "You: what is breast cancer ?\n",
            "Aneka: breast cancer is a cancer that develops from breast tissue. health disparities in breast cancer\n",
            "there are ethnic disparities in the mortality rates for breast cancer as well as in breast cancer treatment. up to 5% of people with breast cancer have inflammatory breast cancer, where cancer cells block the lymph vessels of one breast, causing the breast to substantially swell and redden over three to six months.\n",
            "You: what is pink ribbon ?\n",
            "Aneka: pink ribbon\n",
            "a pink ribbon is the most prominent symbol of breast cancer awareness. : 366–368  critics say that the feel-good nature of pink ribbons and pink consumption distracts society from the lack of progress on preventing and curing breast cancer. it has also been criticized as hypocrisy, because some people wear the pink ribbon to show good will towards women with breast cancer, but then oppose these women's practical goals, like patient rights and anti-pollution legislation.\n",
            "You: history ?\n",
            "Aneka: among those with a family history of breast cancer, use of modern oral contraceptives does not appear to affect the risk of breast cancer. these populations experience better health outcomes from medical treatments designed based on research with diverse patient representation. most of that difference is due to differences in menstrual and reproductive histories – women in wealthier countries tend to begin menstruating earlier and have children later, both factors that increase risk of developing breast cancer.\n",
            "You: medications ?\n",
            "Aneka: the medications tamoxifen or raloxifene may be used in an effort to prevent breast cancer in those who are at high risk of developing it. a tumor greater than 5 cm across is t3. cryoablation\n",
            "as of 2014 cryoablation is being studied to see if it could be a substitute for a lumpectomy in small cancers.\n",
            "You: research \n",
            "Aneka: research\n",
            "treatments are being evaluated in clinical trials. hispanic and indigenous women are also significantly underrepresented in breast cancer research. monetary compensation, language interpreters, and patient navigators can increase the diversity of participants in research and clinical trials.\n"
          ]
        },
        {
          "output_type": "error",
          "ename": "KeyboardInterrupt",
          "evalue": "Interrupted by user",
          "traceback": [
            "\u001b[0;31m---------------------------------------------------------------------------\u001b[0m",
            "\u001b[0;31mKeyboardInterrupt\u001b[0m                         Traceback (most recent call last)",
            "\u001b[0;32m<ipython-input-22-bb05626e8f51>\u001b[0m in \u001b[0;36m<cell line: 0>\u001b[0;34m()\u001b[0m\n\u001b[1;32m      4\u001b[0m     \u001b[0mprint\u001b[0m\u001b[0;34m(\u001b[0m\u001b[0;34m\"Hello, there my name is Aneka. I will answer your queries. If you want to exit, type Bye!\"\u001b[0m\u001b[0;34m)\u001b[0m\u001b[0;34m\u001b[0m\u001b[0;34m\u001b[0m\u001b[0m\n\u001b[1;32m      5\u001b[0m     \u001b[0;32mwhile\u001b[0m \u001b[0mflag\u001b[0m\u001b[0;34m:\u001b[0m\u001b[0;34m\u001b[0m\u001b[0;34m\u001b[0m\u001b[0m\n\u001b[0;32m----> 6\u001b[0;31m         \u001b[0muser_response\u001b[0m \u001b[0;34m=\u001b[0m \u001b[0minput\u001b[0m\u001b[0;34m(\u001b[0m\u001b[0;34m\"You: \"\u001b[0m\u001b[0;34m)\u001b[0m\u001b[0;34m.\u001b[0m\u001b[0mlower\u001b[0m\u001b[0;34m(\u001b[0m\u001b[0;34m)\u001b[0m\u001b[0;34m\u001b[0m\u001b[0;34m\u001b[0m\u001b[0m\n\u001b[0m\u001b[1;32m      7\u001b[0m         \u001b[0;32mif\u001b[0m \u001b[0muser_response\u001b[0m \u001b[0;34m!=\u001b[0m \u001b[0;34m'bye'\u001b[0m\u001b[0;34m:\u001b[0m\u001b[0;34m\u001b[0m\u001b[0;34m\u001b[0m\u001b[0m\n\u001b[1;32m      8\u001b[0m             \u001b[0;32mif\u001b[0m \u001b[0muser_response\u001b[0m \u001b[0;34m==\u001b[0m \u001b[0;34m'thanks'\u001b[0m \u001b[0;32mor\u001b[0m \u001b[0muser_response\u001b[0m \u001b[0;34m==\u001b[0m \u001b[0;34m'thank you'\u001b[0m\u001b[0;34m:\u001b[0m\u001b[0;34m\u001b[0m\u001b[0;34m\u001b[0m\u001b[0m\n",
            "\u001b[0;32m/usr/local/lib/python3.11/dist-packages/ipykernel/kernelbase.py\u001b[0m in \u001b[0;36mraw_input\u001b[0;34m(self, prompt)\u001b[0m\n\u001b[1;32m    849\u001b[0m                 \u001b[0;34m\"raw_input was called, but this frontend does not support input requests.\"\u001b[0m\u001b[0;34m\u001b[0m\u001b[0;34m\u001b[0m\u001b[0m\n\u001b[1;32m    850\u001b[0m             )\n\u001b[0;32m--> 851\u001b[0;31m         return self._input_request(str(prompt),\n\u001b[0m\u001b[1;32m    852\u001b[0m             \u001b[0mself\u001b[0m\u001b[0;34m.\u001b[0m\u001b[0m_parent_ident\u001b[0m\u001b[0;34m,\u001b[0m\u001b[0;34m\u001b[0m\u001b[0;34m\u001b[0m\u001b[0m\n\u001b[1;32m    853\u001b[0m             \u001b[0mself\u001b[0m\u001b[0;34m.\u001b[0m\u001b[0m_parent_header\u001b[0m\u001b[0;34m,\u001b[0m\u001b[0;34m\u001b[0m\u001b[0;34m\u001b[0m\u001b[0m\n",
            "\u001b[0;32m/usr/local/lib/python3.11/dist-packages/ipykernel/kernelbase.py\u001b[0m in \u001b[0;36m_input_request\u001b[0;34m(self, prompt, ident, parent, password)\u001b[0m\n\u001b[1;32m    893\u001b[0m             \u001b[0;32mexcept\u001b[0m \u001b[0mKeyboardInterrupt\u001b[0m\u001b[0;34m:\u001b[0m\u001b[0;34m\u001b[0m\u001b[0;34m\u001b[0m\u001b[0m\n\u001b[1;32m    894\u001b[0m                 \u001b[0;31m# re-raise KeyboardInterrupt, to truncate traceback\u001b[0m\u001b[0;34m\u001b[0m\u001b[0;34m\u001b[0m\u001b[0m\n\u001b[0;32m--> 895\u001b[0;31m                 \u001b[0;32mraise\u001b[0m \u001b[0mKeyboardInterrupt\u001b[0m\u001b[0;34m(\u001b[0m\u001b[0;34m\"Interrupted by user\"\u001b[0m\u001b[0;34m)\u001b[0m \u001b[0;32mfrom\u001b[0m \u001b[0;32mNone\u001b[0m\u001b[0;34m\u001b[0m\u001b[0;34m\u001b[0m\u001b[0m\n\u001b[0m\u001b[1;32m    896\u001b[0m             \u001b[0;32mexcept\u001b[0m \u001b[0mException\u001b[0m \u001b[0;32mas\u001b[0m \u001b[0me\u001b[0m\u001b[0;34m:\u001b[0m\u001b[0;34m\u001b[0m\u001b[0;34m\u001b[0m\u001b[0m\n\u001b[1;32m    897\u001b[0m                 \u001b[0mself\u001b[0m\u001b[0;34m.\u001b[0m\u001b[0mlog\u001b[0m\u001b[0;34m.\u001b[0m\u001b[0mwarning\u001b[0m\u001b[0;34m(\u001b[0m\u001b[0;34m\"Invalid Message:\"\u001b[0m\u001b[0;34m,\u001b[0m \u001b[0mexc_info\u001b[0m\u001b[0;34m=\u001b[0m\u001b[0;32mTrue\u001b[0m\u001b[0;34m)\u001b[0m\u001b[0;34m\u001b[0m\u001b[0;34m\u001b[0m\u001b[0m\n",
            "\u001b[0;31mKeyboardInterrupt\u001b[0m: Interrupted by user"
          ]
        }
      ],
      "source": [
        "# Chat Loop\n",
        "if __name__ == \"__main__\":\n",
        "    flag = True\n",
        "    print(\"Hello, there my name is docbot !. I will answer your queries. If you want to exit, type Bye!\")\n",
        "    while flag:\n",
        "        user_response = input(\"You: \").lower()\n",
        "        if user_response != 'bye':\n",
        "            if user_response == 'thanks' or user_response == 'thank you':\n",
        "                flag = False\n",
        "                print(\"Docbot: You're welcome!\")\n",
        "            else:\n",
        "                if greeting(user_response) is not None:\n",
        "                    print(\"Docbot:\", greeting(user_response))\n",
        "                else:\n",
        "                    print(\"Docbot:\", response(user_response))\n",
        "        else:\n",
        "            flag = False\n",
        "            print(\"Docbot: Bye! Have a great time!\")"
      ]
    },
    {
      "cell_type": "markdown",
      "metadata": {
        "id": "Vj2Q6QHmcdOd"
      },
      "source": [
        "# First\n",
        "Aneka: breast cancer is a disease in which cells in the breast grow out of control. there are different types of breast cancer, and the type depends on which cells in the breast turn into cancer. breast cancer can begin in different parts of the breast, including the ducts, lobules, or in some cases, the tissue in between. while it primarily affects women, men can also develop breast cancer.\n"
      ]
    },
    {
      "cell_type": "markdown",
      "metadata": {
        "id": "yS5DnFmCcosm"
      },
      "source": [
        "# Second\n",
        "Aneka: breast cancer is a disease in which cells in the breast grow out of control. there are different types of breast cancer, and the type depends on which cells in the breast turn into cancer.\n",
        "\n"
      ]
    },
    {
      "cell_type": "markdown",
      "metadata": {
        "id": "lbSsJ2tXdsjf"
      },
      "source": [
        "# Third\n",
        "Aneka: breast cancer is a disease in which cells in the breast grow out of control. there are different types of breast cancer, and the type depends on which cells in the breast turn into cancer. breast cancer most commonly develops in cells from the lining of milk ducts and the lobules that supply these ducts with milk.\n"
      ]
    },
    {
      "cell_type": "markdown",
      "source": [
        " # Using TF/IDF"
      ],
      "metadata": {
        "id": "gBcAd6HAeU3V"
      }
    },
    {
      "cell_type": "code",
      "execution_count": 23,
      "metadata": {
        "colab": {
          "base_uri": "https://localhost:8080/",
          "height": 515
        },
        "id": "8JuQiPLCQeta",
        "outputId": "032bc76e-6483-40ab-f6ad-52530ecf8e42"
      },
      "outputs": [
        {
          "output_type": "stream",
          "name": "stdout",
          "text": [
            "Hello! I’m here to help. Type 'bye' to exit.\n",
            "You: hi\n",
            "Chatbot: I’m sorry! I don’t understand you.\n",
            "You: what is breast cancer ?\n",
            "Chatbot: those with lobular carcinoma in situ also have an increased risk of developing breast cancer – around 1% develop breast cancer each year.\n",
            "You: pink ribbon \n",
            "Chatbot: pink ribbon\n",
            "a pink ribbon is the most prominent symbol of breast cancer awareness.\n"
          ]
        },
        {
          "output_type": "error",
          "ename": "KeyboardInterrupt",
          "evalue": "Interrupted by user",
          "traceback": [
            "\u001b[0;31m---------------------------------------------------------------------------\u001b[0m",
            "\u001b[0;31mKeyboardInterrupt\u001b[0m                         Traceback (most recent call last)",
            "\u001b[0;32m<ipython-input-23-92ea70c635f8>\u001b[0m in \u001b[0;36m<cell line: 0>\u001b[0;34m()\u001b[0m\n\u001b[1;32m     54\u001b[0m     \u001b[0mprint\u001b[0m\u001b[0;34m(\u001b[0m\u001b[0;34m\"Hello! I’m here to help. Type 'bye' to exit.\"\u001b[0m\u001b[0;34m)\u001b[0m\u001b[0;34m\u001b[0m\u001b[0;34m\u001b[0m\u001b[0m\n\u001b[1;32m     55\u001b[0m     \u001b[0;32mwhile\u001b[0m \u001b[0;32mTrue\u001b[0m\u001b[0;34m:\u001b[0m\u001b[0;34m\u001b[0m\u001b[0;34m\u001b[0m\u001b[0m\n\u001b[0;32m---> 56\u001b[0;31m         \u001b[0muser_input\u001b[0m \u001b[0;34m=\u001b[0m \u001b[0minput\u001b[0m\u001b[0;34m(\u001b[0m\u001b[0;34m\"You: \"\u001b[0m\u001b[0;34m)\u001b[0m\u001b[0;34m\u001b[0m\u001b[0;34m\u001b[0m\u001b[0m\n\u001b[0m\u001b[1;32m     57\u001b[0m         \u001b[0;32mif\u001b[0m \u001b[0muser_input\u001b[0m\u001b[0;34m.\u001b[0m\u001b[0mlower\u001b[0m\u001b[0;34m(\u001b[0m\u001b[0;34m)\u001b[0m \u001b[0;34m==\u001b[0m \u001b[0;34m'bye'\u001b[0m\u001b[0;34m:\u001b[0m\u001b[0;34m\u001b[0m\u001b[0;34m\u001b[0m\u001b[0m\n\u001b[1;32m     58\u001b[0m             \u001b[0mprint\u001b[0m\u001b[0;34m(\u001b[0m\u001b[0;34m\"Chatbot: Goodbye!\"\u001b[0m\u001b[0;34m)\u001b[0m\u001b[0;34m\u001b[0m\u001b[0;34m\u001b[0m\u001b[0m\n",
            "\u001b[0;32m/usr/local/lib/python3.11/dist-packages/ipykernel/kernelbase.py\u001b[0m in \u001b[0;36mraw_input\u001b[0;34m(self, prompt)\u001b[0m\n\u001b[1;32m    849\u001b[0m                 \u001b[0;34m\"raw_input was called, but this frontend does not support input requests.\"\u001b[0m\u001b[0;34m\u001b[0m\u001b[0;34m\u001b[0m\u001b[0m\n\u001b[1;32m    850\u001b[0m             )\n\u001b[0;32m--> 851\u001b[0;31m         return self._input_request(str(prompt),\n\u001b[0m\u001b[1;32m    852\u001b[0m             \u001b[0mself\u001b[0m\u001b[0;34m.\u001b[0m\u001b[0m_parent_ident\u001b[0m\u001b[0;34m,\u001b[0m\u001b[0;34m\u001b[0m\u001b[0;34m\u001b[0m\u001b[0m\n\u001b[1;32m    853\u001b[0m             \u001b[0mself\u001b[0m\u001b[0;34m.\u001b[0m\u001b[0m_parent_header\u001b[0m\u001b[0;34m,\u001b[0m\u001b[0;34m\u001b[0m\u001b[0;34m\u001b[0m\u001b[0m\n",
            "\u001b[0;32m/usr/local/lib/python3.11/dist-packages/ipykernel/kernelbase.py\u001b[0m in \u001b[0;36m_input_request\u001b[0;34m(self, prompt, ident, parent, password)\u001b[0m\n\u001b[1;32m    893\u001b[0m             \u001b[0;32mexcept\u001b[0m \u001b[0mKeyboardInterrupt\u001b[0m\u001b[0;34m:\u001b[0m\u001b[0;34m\u001b[0m\u001b[0;34m\u001b[0m\u001b[0m\n\u001b[1;32m    894\u001b[0m                 \u001b[0;31m# re-raise KeyboardInterrupt, to truncate traceback\u001b[0m\u001b[0;34m\u001b[0m\u001b[0;34m\u001b[0m\u001b[0m\n\u001b[0;32m--> 895\u001b[0;31m                 \u001b[0;32mraise\u001b[0m \u001b[0mKeyboardInterrupt\u001b[0m\u001b[0;34m(\u001b[0m\u001b[0;34m\"Interrupted by user\"\u001b[0m\u001b[0;34m)\u001b[0m \u001b[0;32mfrom\u001b[0m \u001b[0;32mNone\u001b[0m\u001b[0;34m\u001b[0m\u001b[0;34m\u001b[0m\u001b[0m\n\u001b[0m\u001b[1;32m    896\u001b[0m             \u001b[0;32mexcept\u001b[0m \u001b[0mException\u001b[0m \u001b[0;32mas\u001b[0m \u001b[0me\u001b[0m\u001b[0;34m:\u001b[0m\u001b[0;34m\u001b[0m\u001b[0;34m\u001b[0m\u001b[0m\n\u001b[1;32m    897\u001b[0m                 \u001b[0mself\u001b[0m\u001b[0;34m.\u001b[0m\u001b[0mlog\u001b[0m\u001b[0;34m.\u001b[0m\u001b[0mwarning\u001b[0m\u001b[0;34m(\u001b[0m\u001b[0;34m\"Invalid Message:\"\u001b[0m\u001b[0;34m,\u001b[0m \u001b[0mexc_info\u001b[0m\u001b[0;34m=\u001b[0m\u001b[0;32mTrue\u001b[0m\u001b[0;34m)\u001b[0m\u001b[0;34m\u001b[0m\u001b[0;34m\u001b[0m\u001b[0m\n",
            "\u001b[0;31mKeyboardInterrupt\u001b[0m: Interrupted by user"
          ]
        }
      ],
      "source": [
        "from gensim.models import Word2Vec\n",
        "from sklearn.metrics.pairwise import cosine_similarity\n",
        "from sklearn.feature_extraction.text import TfidfVectorizer\n",
        "import numpy as np\n",
        "import nltk\n",
        "import string\n",
        "\n",
        "# Load and preprocess document\n",
        "#raw_document = \"\"\"Your single document text goes here...\"\"\"  # Load your document text here\n",
        "sent_tokens = nltk.sent_tokenize(raw)  # Split document into sentences or paragraphs\n",
        "\n",
        "# Train Word2Vec on the document sentences\n",
        "processed_corpus = [LemNormalize(sent) for sent in sent_tokens]\n",
        "word2vec_model = Word2Vec(sentences=processed_corpus, vector_size=100, window=5, min_count=1, workers=4)\n",
        "\n",
        "# Generate TF-IDF weights\n",
        "tfidf_vectorizer = TfidfVectorizer(tokenizer=LemNormalize, stop_words='english')\n",
        "tfidf_vectorizer.fit(sent_tokens)  # Treats each sentence or paragraph as a \"document\" for weighting\n",
        "tfidf_weights = dict(zip(tfidf_vectorizer.get_feature_names_out(), tfidf_vectorizer.idf_))\n",
        "\n",
        "# Helper to get weighted embeddings\n",
        "def get_weighted_embedding(sentence, model, tfidf_weights):\n",
        "    words = LemNormalize(sentence)\n",
        "    embeddings = [\n",
        "        model.wv[word] * tfidf_weights.get(word, 1.0) for word in words if word in model.wv\n",
        "    ]\n",
        "    if embeddings:\n",
        "        return np.mean(embeddings, axis=0)\n",
        "    else:\n",
        "        return np.zeros(model.vector_size)\n",
        "\n",
        "# Compute embeddings for each sentence/paragraph in the document\n",
        "corpus_embeddings = [get_weighted_embedding(sent, word2vec_model, tfidf_weights) for sent in sent_tokens]\n",
        "\n",
        "# Generate a response using weighted similarity\n",
        "def response(user_response):\n",
        "    chatbot_response = ''\n",
        "    user_embedding = get_weighted_embedding(user_response, word2vec_model, tfidf_weights)\n",
        "\n",
        "    # Calculate cosine similarity between user embedding and corpus embeddings\n",
        "    similarities = cosine_similarity([user_embedding], corpus_embeddings)\n",
        "    idx = np.argmax(similarities)\n",
        "\n",
        "    # Check similarity threshold to filter low-confidence responses\n",
        "    if similarities[0][idx] < 0.3:  # Adjust threshold if needed\n",
        "        chatbot_response = \"I’m sorry! I don’t understand you.\"\n",
        "    else:\n",
        "        chatbot_response = sent_tokens[idx]  # Return the most similar sentence/paragraph\n",
        "\n",
        "    return chatbot_response\n",
        "\n",
        "# Example interaction loop\n",
        "if __name__ == \"__main__\":\n",
        "    print(\"Hello! I’m here to help. Type 'bye' to exit.\")\n",
        "    while True:\n",
        "        user_input = input(\"You: \")\n",
        "        if user_input.lower() == 'bye':\n",
        "            print(\"Chatbot: Goodbye!\")\n",
        "            break\n",
        "        print(\"Chatbot:\", response(user_input))\n"
      ]
    }
  ],
  "metadata": {
    "colab": {
      "provenance": [],
      "gpuType": "T4"
    },
    "kernelspec": {
      "display_name": "Python 3",
      "name": "python3"
    },
    "language_info": {
      "name": "python"
    },
    "accelerator": "GPU"
  },
  "nbformat": 4,
  "nbformat_minor": 0
}